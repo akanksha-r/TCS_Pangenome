{
 "cells": [
  {
   "cell_type": "code",
   "execution_count": 1,
   "metadata": {},
   "outputs": [],
   "source": [
    "import pandas as pd\n",
    "from matplotlib_venn import venn2\n",
    "import collections\n",
    "from collections import Counter"
   ]
  },
  {
   "cell_type": "markdown",
   "metadata": {},
   "source": [
    "#### Defining functions for Histidine kinase (HK) and Response regulator (RR) in TCS operon"
   ]
  },
  {
   "cell_type": "code",
   "execution_count": 2,
   "metadata": {},
   "outputs": [],
   "source": [
    "\n",
    "# second definition: not sensitive to number of genes in the operon\n",
    "def get_info(input_list, pmr, ft_i):\n",
    "    for i in range(1, len(input_list)):\n",
    "        gene1, gene2 = input_list[i-1:i+1]\n",
    "\n",
    "        gene1_i = [col.split('_')[-1] for col in pmr.columns if 'product' in col if pmr.loc[index, col].lower() == gene1.lower()][0]\n",
    "        gene2_i = [col.split('_')[-1] for col in pmr.columns if 'product' in col if pmr.loc[index, col].lower() == gene2.lower()][0]\n",
    "\n",
    "        gene1_lt, gene2_lt = pmr.loc[index, 'patric_id_%s'%gene1_i], pmr.loc[index, 'patric_id_%s'%gene2_i]\n",
    "\n",
    "        d1 = get_distance(gene1_lt, gene2_lt, ft_i)\n",
    "\n",
    "\n",
    "        s1, e1 = ft_i.set_index('patric_id').loc[gene1_lt]['start'], ft_i.set_index('patric_id').loc[gene1_lt]['end']\n",
    "        s2, e2 = ft_i.set_index('patric_id').loc[gene2_lt]['start'], ft_i.set_index('patric_id').loc[gene2_lt]['end']\n",
    "        s = min([s1, s2, e1, e2])\n",
    "        e = max([s1, s2, e1, e2])\n",
    "        X1 = ', '.join(ft_i.loc[(ft_i['start'] > s) & (ft_i['end'] < e)]['patric_id'].tolist())     \n",
    "\n",
    "        gene1_l, gene2_l = abs(e1 - s1), abs(e2 - s2)\n",
    "\n",
    "        gene1_s, gene2_s = ft_i.set_index('patric_id').loc[gene1_lt]['strand'], ft_i.set_index('patric_id').loc[gene1_lt]['strand']\n",
    "\n",
    "        if i == 1:\n",
    "            row = {gene1: gene1_lt, '%s length'%gene1: gene1_l, '%s strand'%gene1: gene1_s,\n",
    "                   gene2: gene2_lt, '%s length'%gene2: gene2_l, '%s strand'%gene2: gene2_s,\n",
    "                   'D (%s-%s)'%(gene1, gene2):d1, 'X (%s-%s)'%(gene1, gene2):X1}\n",
    "        else:\n",
    "            row.update({\n",
    "                   gene2: gene2_lt, '%s length'%gene2: gene2_l, '%s strand'%gene2: gene2_s,\n",
    "                   'D (%s-%s)'%(gene1, gene2):d1, 'X (%s-%s)'%(gene1, gene2):X1})\n",
    "    \n",
    "    ft_i = ft_i.sort_values(by = 'start')\n",
    "    gene_order = []\n",
    "    for gene_lt in list(ft_i['patric_id']):\n",
    "        gene_name = [pmr.loc[index, 'product_%s'%col.split('_')[-1] ] for col in pmr.columns \n",
    "            if 'patric_id' in col if pmr.loc[index, col] == gene_lt]\n",
    "        if len(gene_name) > 0:\n",
    "            gene_name = gene_name[0]\n",
    "        else:\n",
    "            gene_name = ft_i.loc[ft_i['patric_id'] == gene_lt].fillna('')['gene'].tolist()[0]\n",
    "            gene_name = 'X' if gene_name == '' else gene_name\n",
    "        gene_order.append(gene_name)\n",
    "    gene_order = ', '.join(gene_order)\n",
    "    row.update({'Gene Order':gene_order})\n",
    "    return row\n",
    "\n",
    "\n",
    "def get_distance(gene1, gene2, ft_i):\n",
    "    strand1, strand2 = ft_i.loc[ft_i['patric_id'] == gene1]['strand'].tolist()[0], ft_i.loc[ft_i['patric_id'] == gene2]['strand'].tolist()[0]\n",
    "    if strand1 == '+' and strand2 == '+':\n",
    "        d1 = ft_i.loc[ft_i['patric_id'] == gene2]['start'].tolist()[0] - ft_i.loc[ft_i['patric_id'] == gene1]['end'].tolist()[0]\n",
    "    elif strand1 == '-' and strand2 == '+':\n",
    "        d1 = ft_i.loc[ft_i['patric_id'] == gene2]['start'].tolist()[0] - ft_i.loc[ft_i['patric_id'] == gene1]['start'].tolist()[0]\n",
    "    elif strand1 == '-' and strand2 == '-':\n",
    "        d1 = ft_i.loc[ft_i['patric_id'] == gene2]['end'].tolist()[0] - ft_i.loc[ft_i['patric_id'] == gene1]['start'].tolist()[0]\n",
    "    elif strand1 == '+' and strand2 == '-':\n",
    "        d1 = ft_i.loc[ft_i['patric_id'] == gene2]['end'].tolist()[0] - ft_i.loc[ft_i['patric_id'] == gene1]['end'].tolist()[0]\n",
    "\n",
    "    return d1"
   ]
  },
  {
   "cell_type": "code",
   "execution_count": 3,
   "metadata": {},
   "outputs": [
    {
     "data": {
      "text/html": [
       "<div>\n",
       "<style scoped>\n",
       "    .dataframe tbody tr th:only-of-type {\n",
       "        vertical-align: middle;\n",
       "    }\n",
       "\n",
       "    .dataframe tbody tr th {\n",
       "        vertical-align: top;\n",
       "    }\n",
       "\n",
       "    .dataframe thead th {\n",
       "        text-align: right;\n",
       "    }\n",
       "</style>\n",
       "<table border=\"1\" class=\"dataframe\">\n",
       "  <thead>\n",
       "    <tr style=\"text-align: right;\">\n",
       "      <th></th>\n",
       "      <th>hmm_1</th>\n",
       "      <th>hmm_2</th>\n",
       "      <th>product_1</th>\n",
       "      <th>product_2</th>\n",
       "      <th>patric_id_1</th>\n",
       "      <th>patric_id_2</th>\n",
       "      <th>Genome ID</th>\n",
       "    </tr>\n",
       "  </thead>\n",
       "  <tbody>\n",
       "    <tr>\n",
       "      <th>0</th>\n",
       "      <td>HK</td>\n",
       "      <td>RR</td>\n",
       "      <td>AdeS</td>\n",
       "      <td>AdeR</td>\n",
       "      <td>fig|470.5408.peg.3880</td>\n",
       "      <td>fig|470.5408.peg.3881</td>\n",
       "      <td>470.5408</td>\n",
       "    </tr>\n",
       "    <tr>\n",
       "      <th>1</th>\n",
       "      <td>HK</td>\n",
       "      <td>RR</td>\n",
       "      <td>AdeS</td>\n",
       "      <td>AdeR</td>\n",
       "      <td>fig|470.4684.peg.884</td>\n",
       "      <td>fig|470.4684.peg.885</td>\n",
       "      <td>470.4684</td>\n",
       "    </tr>\n",
       "    <tr>\n",
       "      <th>2</th>\n",
       "      <td>HK</td>\n",
       "      <td>RR</td>\n",
       "      <td>AdeS</td>\n",
       "      <td>AdeR</td>\n",
       "      <td>fig|470.4759.peg.1628</td>\n",
       "      <td>fig|470.4759.peg.1629</td>\n",
       "      <td>470.4759</td>\n",
       "    </tr>\n",
       "    <tr>\n",
       "      <th>3</th>\n",
       "      <td>HK</td>\n",
       "      <td>RR</td>\n",
       "      <td>AdeS</td>\n",
       "      <td>AdeR</td>\n",
       "      <td>fig|470.6368.peg.1767</td>\n",
       "      <td>fig|470.6368.peg.1768</td>\n",
       "      <td>470.6368</td>\n",
       "    </tr>\n",
       "    <tr>\n",
       "      <th>4</th>\n",
       "      <td>HK</td>\n",
       "      <td>RR</td>\n",
       "      <td>AdeS</td>\n",
       "      <td>AdeR</td>\n",
       "      <td>fig|470.4777.peg.3234</td>\n",
       "      <td>fig|470.4777.peg.3235</td>\n",
       "      <td>470.4777</td>\n",
       "    </tr>\n",
       "  </tbody>\n",
       "</table>\n",
       "</div>"
      ],
      "text/plain": [
       "  hmm_1 hmm_2 product_1 product_2            patric_id_1  \\\n",
       "0    HK    RR      AdeS      AdeR  fig|470.5408.peg.3880   \n",
       "1    HK    RR      AdeS      AdeR   fig|470.4684.peg.884   \n",
       "2    HK    RR      AdeS      AdeR  fig|470.4759.peg.1628   \n",
       "3    HK    RR      AdeS      AdeR  fig|470.6368.peg.1767   \n",
       "4    HK    RR      AdeS      AdeR  fig|470.4777.peg.3234   \n",
       "\n",
       "             patric_id_2 Genome ID  \n",
       "0  fig|470.5408.peg.3881  470.5408  \n",
       "1   fig|470.4684.peg.885  470.4684  \n",
       "2  fig|470.4759.peg.1629  470.4759  \n",
       "3  fig|470.6368.peg.1768  470.6368  \n",
       "4  fig|470.4777.peg.3235  470.4777  "
      ]
     },
     "execution_count": 3,
     "metadata": {},
     "output_type": "execute_result"
    }
   ],
   "source": [
    "HK_RR = pd.read_csv(\"../data/blast/hmm_out/a_baumannii_RR_HK_hmm_input.csv\", sep=\"\\t\")\n",
    "HK_RR['Genome ID'] = [x.split('|')[-1].split('.peg')[0] for x in HK_RR['patric_id_1']]\n",
    "\n",
    "HK_RR.head()"
   ]
  },
  {
   "cell_type": "markdown",
   "metadata": {},
   "source": [
    "#### Function for 03 genes in TCS operon"
   ]
  },
  {
   "cell_type": "code",
   "execution_count": 43,
   "metadata": {},
   "outputs": [],
   "source": [
    "query = pd.read_csv(\"../data/blast/pmr/p_aeru_blast_Pmr_out\", sep=\"\\s+\", skiprows=5, \n",
    "                   names = ['query acc.ver', 'subject acc.ver', '% identity', 'alignment length', 'mismatches', 'gap opens', 'q. start', 'q. end', 's. start', 's. end', 'evalue', 'bit score'])\n",
    "query['Genome ID']= [x.split('|')[-1].split('.peg')[0] for x in query['subject acc.ver']]\n",
    "tmp = query.groupby('Genome ID')['subject acc.ver','% identity'].max()['subject acc.ver'].tolist()\n",
    "query = query.set_index('subject acc.ver').loc[tmp]\n",
    "\n",
    "# merging the 3rd gene in operon\n",
    "\n",
    "pmr = HK_RR.loc[HK_RR['product_1'] == 'PmrA'].append(HK_RR.loc[HK_RR['product_2'] == 'PmrA'])\n",
    "directory = '/home/akanksha/akanksha/pan-genomics/data/p_aeru/929_features_tab/'\n",
    "pmr = pmr.merge(query.reset_index().rename(columns = {'subject acc.ver':'patric_id_3'}), on = 'Genome ID', how = 'inner')\n",
    "pmr['product_3'] = ['PmrC']*len(pmr)\n",
    "\n",
    "\n",
    "#input_list = ['KdpD', 'KdpE', 'KdpA','KdpB', 'KdpC']\n",
    "input_list = ['PmrC', 'PmrA', 'PmrB']\n",
    "rows = []\n",
    "\n",
    "for index in pmr.index:\n",
    "    gid = pmr.loc[index, 'Genome ID']\n",
    "    ft_i = pd.read_csv('%s/%s.PATRIC.features.tab'%(directory, gid), sep = '\\t').set_index('patric_id')\n",
    "\n",
    "    # step 1: check that they are all on the same contig\n",
    "    contigs = {ft_i.loc[pmr.loc[index, column_name], 'accession'] for column_name in pmr.columns if 'patric_id' in column_name}\n",
    "    if len(contigs) >1:\n",
    "        continue\n",
    "\n",
    "    ft_i = ft_i.reset_index()\n",
    "    indices = [ft_i.loc[ft_i['patric_id'] == pmr.loc[index, column_name]].index.tolist()[0] for column_name in pmr.columns if 'patric_id' in column_name]\n",
    "    ft_i = ft_i.iloc[min(indices):max(indices)+1]\n",
    "    rows.append(get_info(input_list, pmr, ft_i))"
   ]
  },
  {
   "cell_type": "code",
   "execution_count": 44,
   "metadata": {},
   "outputs": [
    {
     "data": {
      "text/plain": [
       "Counter({'PmrC, braZ, X, X, X, X, X, X, X, X, X, X, X, bacA, X, X, X, X, X, X, X, X, rbsK, rbsR, rbsC, rbsA, rbsB, X, X, X, X, X, X, X, X, X, X, X, X, X, X, X, rimJ, metE, X, X, X, cobN, X, X, X, X, X, X, X, X, X, X, X, X, X, X, X, X, X, X, X, X, phzG2, phzF2, phzE2, phzD2, phzC2, phzB2, phzA2, qscR, X, X, X, X, X, X, X, X, X, X, X, X, polB, X, X, X, X, X, X, X, X, X, X, X, X, X, X, lasA, X, X, xqhA, X, X, X, X, X, X, modA, modB, modC, X, X, str, X, X, X, ccoN-2, X, X, X, X, X, X, X, X, X, X, cti, X, X, metH, X, X, X, X, X, X, X, cysI, X, X, X, X, X, X, X, X, X, X, X, X, X, X, nudC, X, X, nhaB, X, X, X, dnaQ, rnhA, X, X, mltD, X, X, X, X, X, fabI, ppiD, X, hupB, lon, clpX, clpP, tig, X, X, X, X, X, X, X, X, X, X, X, folD, cysS, glnS, ppiB, X, X, X, X, X, X, acnB, nasS, nasT, X, X, nasA, X, nirB, nirD, X, cobA, oprF, sigX, X, X, X, X, X, ppsA, X, X, X, X, X, X, X, X, X, X, X, X, X, pabB, thrH, cysH, X, cysB, X, panE, X, aroF-1, X, X, X, X, X, X, X, X, X, X, X, X, X, X, X, X, X, X, X, X, X, X, X, X, bglX, pscL, pscK, pscJ, pscI, pscH, pscG, pscF, pscD, pscC, pscB, X, X, exsA, exsB, X, exsC, popD, popB, pcrH, pcrV, pcrG, pcrR, pcrD, X, X, X, X, popN, pscN, pscO, pscP, pscQ, pscR, X, pscT, pscU, X, X, speE, alkA, X, masA, X, X, X, aroC, X, X, X, X, X, X, folE, X, X, stk1, stp1, X, X, X, X, X, X, X, X, X, X, X, X, X, X, hcpD, X, X, X, X, X, X, X, X, X, X, X, X, X, X, X, X, X, selD, X, X, X, X, kdpE, kdpD, kdpC, kdpB, kdpA, X, X, X, X, X, X, X, X, X, X, X, X, X, X, X, X, X, X, gpsA, X, X, X, fabA, fabB, X, X, X, X, X, X, X, X, X, X, panB, X, htpG, X, X, X, X, X, X, braB, sucD, sucC, lpdG, sucB, sucA, sdhB, sdhA, sdhD, sdhC, gltA, X, X, X, X, X, X, X, X, X, X, X, X, X, X, X, X, X, X, X, X, acnA, aer, X, X, X, X, X, X, X, X, X, X, X, X, X, X, X, X, X, hemN, X, anr, apt, X, X, X, X, X, X, X, X, recR, X, dnaX, X, X, ligA, zipA, X, X, alkB2, xdhA, xdhB, X, X, X, X, X, X, X, X, alc, X, X, hcpA, X, X, X, X, X, X, moaA2, X, X, gcl, X, X, X, pykF, X, X, X, X, cysP, X, X, X, X, X, X, X, X, X, X, cycH, ccmH, ccmG, ccmF, ccmE, X, ccmC, ccmB, ccmA, X, X, X, X, X, X, X, X, X, X, X, X, motD, motC, X, X, cheZ, cheY, fliA, fleN, flhF, flhA, X, X, flhB, fliR, fliQ, fliP, fliO, fliN, fliM, fliL, X, X, X, X, X, X, X, X, X, X, X, lasI, lasR, X, X, X, X, X, X, X, X, gbuR, gbuA, X, X, X, X, X, X, X, X, X, X, X, aphA, X, X, X, X, X, X, X, X, X, X, X, X, X, X, X, X, X, X, X, X, aceK, pdxB, X, fabF2, X, X, X, X, X, X, X, X, X, X, X, X, X, X, X, X, X, X, X, X, X, X, X, X, X, X, X, X, X, X, X, X, X, X, X, X, X, X, X, X, X, X, ggt, ansB, X, X, X, X, X, X, X, X, X, X, X, X, ilvA2, X, X, X, X, cyoE, cyoD, cyoC, cyoB, cyoA, X, X, X, X, X, X, phnX, phnW, X, X, X, X, X, X, X, X, X, X, X, X, X, X, X, rnd, X, X, sseA, X, X, X, X, X, X, X, X, X, X, cobS, X, cobT, cobU, cobQ, cobC, cobD, X, cobB, cobO, X, X, X, X, X, X, X, X, X, X, X, X, X, X, X, X, X, X, X, X, X, X, aprI, aprA, X, X, aprF, aprE, aprD, X, X, X, X, X, X, X, X, X, X, X, X, X, X, X, X, X, X, X, X, X, X, X, X, X, X, X, X, X, X, X, X, X, X, X, X, X, X, X, X, X, X, X, kefB, X, X, X, X, X, X, X, X, X, X, X, X, X, X, X, X, X, X, X, X, coaB, X, X, X, X, X, X, X, X, X, X, X, dctA, X, X, X, phoQ, phoP, oprH, napE, napF, napD, napA, napB, napc, X, X, X, X, X, X, X, pcpS, X, X, dapE, rrmA, X, X, X, X, X, nrdA, nrdB, X, X, pyoS3A, X, X, toxA, X, X, X, X, X, X, X, X, X, X, X, X, X, X, X, X, X, X, rhlC, X, X, X, X, X, dgt, X, X, X, X, X, X, X, X, X, X, X, X, X, X, X, X, X, X, X, X, X, X, X, fliJ, fliI, fliH, fliG, fliF, fliE, fleR, fleS, fleQ, X, fliS, fliD, X, fliC, X, X, X, X, flgL, flgK, flgJ, flgI, flgH, flgG, flgF, flgE, flgD, flgC, flgB, X, X, X, braC, braD, livM, livG, braG, X, X, X, X, X, X, X, X, X, X, X, X, X, X, X, X, X, X, X, X, X, pdxH, X, X, X, dinG, X, X, X, X, X, X, X, X, X, X, X, X, pac, X, X, X, X, X, X, X, X, X, X, X, X, X, X, mucK, X, pauA, X, X, X, X, X, purC, X, X, dapA, X, bcp, X, X, X, nadA, mvfR, phnB, phnA, pqsE, pqsD, pqsC, pqsB, pqsA, ogt, cupC3, cupC1, X, X, X, exoU, X, X, X, X, X, X, X, X, X, X, X, X, oprL, tolB, tolA, tolR, tolQ, X, ruvB, ruvA, ruvC, X, aspS, X, X, X, X, oprD, X, proS, X, X, X, X, X, X, X, wrbA, X, X, X, X, purM, purN, X, X, X, X, X, X, X, X, lpxO2, mazG, relA, rumA, cysM, X, X, X, X, ldhA, X, X, X, dinP, X, X, X, X, X, X, kup, X, X, X, X, mgtE, X, X, X, X, X, X, X, X, X, X, rsmA, lysC, alaS, X, aruE, X, aruB, astD, aruG, aruF, argD, X, argR, aotP, X, aotM, aotQ, aotJ, acsA, X, X, X, X, X, X, X, X, X, X, X, X, X, X, X, phhR, phhA, phhB, phhC, pbpG, X, X, aroP2, hpd, X, X, X, X, X, X, X, X, X, bolA, X, X, fumC2, X, cpbD, X, X, trxB2, X, X, X, X, plcH, plcR, X, X, X, X, X, slyD, X, X, pta, X, X, X, oruR, X, X, X, X, X, X, X, X, X, X, X, X, X, X, X, X, X, X, mntH2, X, X, X, X, X, X, X, X, X, X, pmtA, X, prpB, prpC, X, X, prpD, X, X, X, X, X, X, X, X, X, X, putP, putA, X, pruR, X, icp, X, X, X, X, pdxJ, recO, era, rnc, X, lepB, lepA, mucD, mucC, mucB, mucA, algU, nadB, X, X, X, X, X, X, X, X, X, X, X, ung, X, X, X, X, X, X, X, X, X, X, X, X, X, X, X, X, X, X, X, X, X, X, X, X, X, X, X, X, X, X, X, X, X, X, X, X, X, X, X, X, X, X, X, X, X, X, X, gloA2, X, X, toxR, cat, X, X, X, X, X, X, X, X, X, X, X, X, X, X, exbD2, exbB2, X, X, X, X, X, X, X, X, X, X, X, X, X, X, X, X, X, X, X, X, nemO, X, X, dnaE2, X, X, X, X, X, sbcD, sbcC, recD, recB, recC, X, X, X, X, X, X, X, X, X, X, X, X, X, X, X, X, X, X, X, X, X, pctC, X, X, pctA, pctB, X, X, X, X, X, purU, mvaT, sbcB, X, X, X, X, X, X, X, X, X, X, X, X, pykA, X, X, X, X, mntH1, X, X, X, X, X, X, X, X, X, X, X, X, X, X, X, X, X, X, X, X, X, X, X, feoB, feoA, X, X, X, X, iciA, X, X, sodB, X, X, X, icmP, X, X, X, X, X, pncB2, X, inaA, X, X, X, X, X, X, X, groEL, groES, fxsA, X, fabG, X, X, X, X, X, X, X, apbA, X, X, X, X, argJ, secA, X, X, X, lpxC, ftsZ, ftsA, ftsQ, ddl, murC, murG, ftsW, murD, mraY, murF, murE, ftsI, ftsL, mraW, X, X, X, X, gmhA, X, sspB, sspA, X, X, X, rpsI, rplM, X, X, X, X, X, trpS, X, X, cysN, cysD, mltB1, X, algW, hisC1, hisD, X, hisG, murA, X, X, X, X, X, X, X, X, X, X, X, rpoN, X, ptsN, X, X, X, sodM, X, fumC, X, pmbA, X, X, X, X, cafA, X, mreD, mreC, mreB, X, gatC, gatA, gatB, X, X, X, X, X, X, X, X, X, X, X, X, X, X, X, X, X, X, X, X, dppC, dppD, dppF, X, X, X, X, X, lpxO1, X, X, X, X, X, X, X, X, X, X, ampD, X, nadC, X, pilB, pilC, pilD, coaE, X, X, X, X, X, X, X, X, ndh, X, X, X, X, X, X, X, X, X, X, X, X, X, X, X, X, X, X, X, X, X, X, X, X, X, X, X, X, X, X, pilL2, pilN2, pilO2, pilP2, pilQ2, pilR2, pilS2, pilT2, pilV2, pilM2, X, X, X, X, X, X, X, X, X, X, X, X, X, X, X, X, X, X, X, X, X, X, cupD1, cupD2, X, X, cupD4, cupD5, rcsB, rcsC, pvrR, X, X, X, X, X, X, X, X, X, X, X, X, X, X, X, X, X, X, X, X, X, X, X, X, X, X, clpB, X, rluD, comL, X, pilS, pilR, X, X, fimU, X, pilW, pilX, pilY1, ispH, X, lspA, ileS, ribF, X, rpsT, X, proB, obgE, rpmA, rplU, ispB, X, X, fklB, X, X, X, X, X, X, X, X, rtcR, X, X, X, X, X, rtcA, X, ccpR, gdhA, X, X, pra, X, X, X, X, X, X, X, oprJ, mexD, mexC, nfxB, morA, glyA, X, X, X, X, X, X, radA, X, X, X, katB, X, mscL, X, X, X, X, X, X, X, X, X, X, X, X, X, X, hprA, X, lysP, X, X, X, X, X, X, X, X, X, X, X, X, X, mqoB, X, X, X, X, X, upp, uraA, X, X, X, X, X, X, X, hemH, X, X, X, X, phr, pagL, murI, moeB, X, prfA, hemA, X, lolB, ipk, X, prs, X, pth, X, X, X, X, X, X, rimI, X, X, X, X, X, X, X, X, hitA, hitB, X, X, X, X, X, X, X, X, X, X, pssA, ilvC, ilvH, ilvI, X, X, X, mrcB, X, X, X, X, X, X, hmuV, X, X, X, X, X, X, X, X, X, X, X, X, X, X, trmA, X, X, dksA, X, X, cbrA, cbrB, pcnB, folK, panB, panC, panD, pgi, acsB, X, X, X, X, X, X, pnp, X, rpsO, truB, rbfA, infB, nusA, X, X, X, secG, tpiA, glmM, folP, ftsH, rrmJ, X, X, greA, carB, X, carA, dapB, dnaJ, dnaK, grpE, X, recN, fur, omlA, X, X, smpB, X, lldP, lldD, X, X, X, X, PmrA, PmrB': 1,\n",
       "         'PmrC, X, braZ, X, X, X, X, X, X, ybiT, X, acpD, X, X, bacA, X, nadR, X, X, X, X, X, X, rbsK, rbsR, rbsC, rbsA, rbsB, X, X, X, X, X, X, X, X, X, X, X, X, X, X, X, X, rimJ, metE, X, X, X, cobN, cirA, X, X, nrdD, X, nrdG, X, X, X, X, X, X, hvn, X, X, X, ufrA, X, X, X, X, apaH, X, phzG1, phzF, X, X, X, phzB2, phzA2, X, qscR, X, X, X, X, X, X, X, X, X, X, X, X, X, polB, X, X, nuoA, sugE, X, X, X, X, X, X, opmL, X, X, X, X, lasA, X, X, xqhA, X, X, X, X, X, X, modA, modB, modC, X, X, str, X, yedI, X, ccoN-2, X, X, X, X, X, X, X, X, X, yhgI, cti, X, X, metH, X, X, X, X, X, X, X, cysI, X, X, X, X, yhfP, sohB, gpmA, X, X, X, X, X, X, X, nudC, fimL, X, X, nhaB, X, adi, X, dnaQ, rnhA, X, X, mltD, X, X, X, X, X, fabI, ppiD, X, hupB, lon, clpX, clpP, tig, X, X, X, X, X, X, X, X, X, X, X, folD, cysS, glnS, ppiB, X, X, miaE, uspA, X, X, acnB, nasS, nasT, X, X, nasA, ppkB, nirB, nirD, nasA, cobA, oprF, sigX, cmpX, crfX, cmaX, menG, estX, ppsA, X, ydiA, X, X, X, X, X, X, X, X, X, X, X, pabB, thrH, cysH, X, cysB, X, X, panE, X, aroF-1, X, X, X, X, X, X, X, X, arsC, X, X, X, fadB, X, X, X, X, X, X, X, X, X, X, X, bglX, pscL, pscK, pscJ, pscI, pscH, pscG, pscF, X, pscD, pscC, pscB, exsD, X, exsA, X, X, exsC, popD, popB, pcrH, pcrV, pcrG, pcrR, pcrD, pcr4, pcr3, pcr2, pcr1, popN, pscN, pscO, pscP, pscQ, pscR, pscS, pscT, pscU, X, X, speE, alkA, X, masA, X, X, X, aroC, X, X, X, X, X, X, folE, X, X, stk1, stp1, X, X, X, X, X, X, X, X, X, X, X, X, X, X, X, X, X, X, X, X, X, X, X, X, benE, X, X, X, X, X, X, X, X, ybbB, selD, X, X, X, glsA, kdpE, kdpD, kdpC, kdpB, kdpA, kdpF, X, X, X, paaH, X, X, X, X, X, X, X, X, X, X, X, sixA, X, gpsA, X, X, X, fabA, fabB, X, X, X, X, X, X, X, X, X, X, panB, X, htpG, X, X, X, X, X, braB, sucD, sucC, lpdG, sucB, kgd, sdhB, sdhA, sdhD, sdhC, gltA, X, X, X, X, X, X, yaiE, yijF, X, X, X, X, X, X, X, X, X, X, X, ygdE, acnA, aer, X, X, ccoN, ccoO, X, ccoP, ccoN, ccoO, X, ccoP, fixG, X, fixI, fixS, X, hemN, X, anr, apt, X, ydgF, X, X, X, X, X, recR, X, dnaX, X, X, ligA, zipA, smc, X, alkB2, X, xdhA, xdhB, X, gda1, X, X, X, X, X, X, alc, allA, X, X, X, X, X, X, X, X, X, ygfU, X, moaA2, X, X, gcl, hyi, glxR, ttuD, pykF, X, X, X, muiA, cysP, X, X, X, X, X, X, X, X, X, X, cycH, ccmH, ccmG, ccmF, ccmE, X, ccmC, ccmB, ccmA, X, X, X, X, X, X, X, X, X, cheW, X, X, motD, motC, cheB, X, cheZ, cheY, fliA, fleN, flhF, flhA, X, X, flhB, fliR, fliQ, fliP, fliO, fliN, fliM, fliL, X, X, X, X, X, X, X, X, X, lasI, X, lasR, X, yjaB, X, X, X, X, X, gbuR, gbuA, X, X, X, ilvG, X, X, X, yneJ, yjiJ, X, potF, aphA, X, X, X, X, X, X, X, X, X, X, X, X, X, X, X, X, X, X, X, X, X, X, X, X, X, X, X, X, X, X, X, X, yqhC, X, X, X, aceK, pdxB, X, fabF2, X, X, X, X, X, X, X, norM, ybiF, X, X, X, X, X, X, X, X, X, X, X, X, X, X, X, X, X, X, X, ybeJ, gltJ, gltK, gltL, ggt, ansB, X, X, X, X, X, X, X, yegH, X, X, X, X, ilvA2, yybH, X, X, pfuA, cyoE, cyoD, cyoC, cyoB, cyoA, X, X, X, X, X, X, X, phnX, phnW, phnR, X, yafJ, X, X, X, X, hxuC, X, X, ycgN, X, czcD, X, ycgL, rnd, X, X, sseA, X, X, X, ompP1, X, X, X, X, X, X, cobS, cobC, cobT, cobU, cobQ, cobC, cobD, X, cobB, cobO, btuB, X, X, X, X, X, X, X, X, X, X, X, X, X, X, X, glnQ, X, X, X, X, X, aprI, aprA, X, aprF, aprE, aprD, aprX, X, X, X, X, X, X, X, X, X, X, X, X, X, X, X, X, yeaM, X, X, X, X, X, X, X, X, X, X, mltA, X, X, X, X, X, X, X, X, X, X, X, yhhW, X, X, kefB, X, X, yieF, X, ycaC, X, X, X, X, X, X, X, X, X, ydaO, X, yohC, X, X, lcaD, X, yfcG, X, dctA, X, X, yegE, phoQ, phoP, oprH, napE, napF, napD, napA, X, napc, X, X, X, X, X, X, pcpS, X, X, dapE, rrmA, X, X, X, X, nrdA, nrdB, X, X, X, pyoS3A, X, X, toxA, X, X, X, X, X, X, X, X, ylbA, X, X, X, X, yedU, X, X, X, X, rhlC, X, X, gsp69, X, cobB, dgt, X, X, X, X, X, X, X, X, X, X, X, X, X, X, X, yliI, X, X, X, X, X, X, fliJ, fliI, fliH, fliG, fliF, fliE, fleR, fleS, fleQ, X, X, X, fliD, X, fliC, X, X, X, X, X, X, X, X, X, X, flgK, flgJ, flgI, flgH, flgG, flgF, flgE, flgD, flgC, flgB, X, X, X, braC, braD, livM, livG, braG, X, X, X, X, X, X, X, X, X, X, phaG, phaF, phaE, phaD, phaC, phaA, X, X, X, X, yeaG, pdxH, X, X, X, dinG, X, X, X, X, X, X, X, X, X, X, X, yfcG, pac, yigN, X, X, X, pcd, X, X, X, X, X, X, X, X, X, mucK, X, pauA, X, X, X, X, X, purC, yycJ, X, dapA, X, bcp, perM, yrkI, X, nadA, mvfR, phnB, phnA, pqsE, pqsD, pqsC, pqsB, pqsA, ogt, cupC3, X, cupC1, X, X, X, X, exoU, X, X, X, X, X, X, X, X, X, X, X, X, X, X, X, X, X, X, X, X, X, X, X, X, X, X, X, oprL, tolB, tolA, tolR, tolQ, ybgC, ruvB, ruvA, ruvC, yebC, aspS, X, X, X, X, X, X, X, proS, X, X, helX, X, X, rbn, X, wrbA, X, X, X, purM, purN, X, X, X, X, X, X, X, yaiL, lpxO2, mazG, relA, rumA, cysM, pirA, pirS, pirR, lemA, ldhA, X, X, X, dinP, X, X, X, X, X, X, kup, yliG, yehS, X, mgtE, X, X, X, X, X, X, X, X, X, X, rsmA, lysC, alaS, X, aruE, X, aruB, aruD, aruG, aruF, argD, X, argR, aotP, aotO, aotM, aotQ, aotJ, acsA, dctM, dctQ, dctP, X, X, X, X, X, X, X, X, X, X, X, X, phhR, phhA, phhB, phhC, pbpG, yaeJ, X, aroP2, hpd, X, X, X, X, X, X, X, X, X, bolA, X, X, fumC2, X, cpbD, X, X, trxB2, X, X, X, X, X, plcH, plcR, X, X, X, X, btuE, slyD, X, ackA, pta, X, X, ycbL, oruR, X, X, X, X, X, X, X, X, X, X, X, X, X, X, X, X, X, X, X, X, X, X, X, X, X, X, X, X, X, X, X, X, X, X, X, X, X, X, X, X, X, X, X, X, X, X, X, X, X, X, X, X, X, X, X, X, X, X, X, X, X, X, X, X, X, X, X, X, X, X, X, X, X, X, X, X, X, X, X, X, X, X, X, mntH2, X, X, X, X, X, X, X, X, X, X, pmtA, X, prpB, prpC, X, X, prpD, X, X, X, X, X, X, X, X, X, X, putP, putA, X, pruR, X, icp, X, X, yecO, yecP, pdxJ, recO, era, rnc, X, lepB, lepA, mucD, mucC, mucB, mucA, algU, nadB, X, X, X, X, X, X, opdH, X, X, X, X, ung, X, X, X, X, X, X, X, X, ywnB, yjcS, X, X, X, X, X, X, X, X, rsuA, X, X, X, X, X, X, X, X, X, X, X, X, X, X, X, X, X, X, X, X, X, X, X, X, X, X, X, X, X, X, X, X, X, X, X, X, X, X, X, X, X, X, X, X, X, X, X, radC, X, X, X, X, X, X, X, X, X, X, X, X, X, X, X, X, X, X, intI1, bla IMP, X, X, X, X, X, X, X, X, sul1, X, X, X, X, X, X, X, X, X, X, merR, X, X, X, X, X, X, X, X, X, X, X, X, X, X, X, X, X, X, X, X, X, X, X, X, X, X, X, X, X, X, X, X, X, X, X, X, X, X, gloA2, X, X, toxR, cat, X, migA, X, X, X, X, X, X, X, X, X, X, X, X, exbD2, exbB2, X, X, X, X, X, hxcS, hxcR, hxcQ, hxcZ, hxcY, hxcX, hxcT, hxcV, hxcP, hxcU, hxcW, X, X, pigC, pigB, nemO, X, X, dnaE2, X, X, X, X, X, X, sbcD, sbcC, recD, recB, recC, X, X, X, chrA, X, X, pitA, X, X, X, X, X, X, X, X, X, cpaF2, X, X, X, X, pctC, yjgR, X, pctA, pctB, X, X, X, X, X, purU, mvaT, sbcB, X, X, X, X, X, moxR, X, X, X, X, X, X, pykA, X, X, X, fumA, mntH1, X, X, X, X, X, X, X, X, X, X, X, X, X, X, X, X, X, X, X, X, X, X, X, feoB, feoA, X, X, X, X, iciA, X, X, sodB, X, X, X, icmP, X, X, X, X, X, pncB2, X, inaA, X, colS, colR, X, X, crcB, X, groEL, groES, fxsA, X, fabG, X, X, X, ampG, X, X, X, apbA, X, X, mutT, X, argJ, secA, X, X, lpxC, ftsZ, ftsA, ftsQ, ddl, murC, murG, ftsW, murD, mraY, murF, murE, ftsI, ftsL, mraW, X, X, X, X, gmhA, X, sspB, sspA, X, X, X, rpsI, rplM, X, X, X, X, X, trpS, X, X, cysN, cysD, mltB1, X, algW, hisC1, hisD, X, hisG, murA, X, X, ttg2D, X, X, X, X, yrbH, X, X, X, X, rpoN, X, ptsN, X, X, X, sodM, X, fumC, X, pmbA, X, X, X, X, cafA, maf, mreD, mreC, mreB, X, gatC, gatA, gatB, X, X, X, X, X, X, X, X, X, X, X, X, X, X, X, X, X, X, X, X, X, dppC, dppD, dppF, X, X, X, X, X, lpxO1, piuB, X, piuC, X, X, X, speC, X, X, ampE, ampD, X, nadC, X, X, X, X, pilD, coaE, X, X, X, X, X, X, X, X, ndh, X, X, X, X, X, X, X, X, X, X, X, X, X, X, X, X, X, X, X, X, X, X, X, X, X, X, X, X, X, X, X, X, X, X, X, X, X, X, X, X, X, X, X, X, X, X, X, X, X, X, X, X, X, X, X, X, X, X, X, X, X, X, X, X, X, X, X, X, X, X, X, X, X, X, X, X, X, X, X, X, X, X, X, X, X, X, X, X, X, X, X, X, X, X, X, X, X, X, X, X, X, X, X, X, X, X, clpB, X, rluD, comL, X, pilS, pilR, X, X, X, X, X, X, X, X, X, ispH, X, lspA, ileS, ribF, mviN, rpsT, X, proB, obgE, rpmA, rplU, ispB, X, X, fklB, X, X, X, X, X, X, X, X, rtcR, X, X, X, X, X, rtcA, X, ccpR, gdhA, X, pra, X, X, X, X, X, X, nfxB, oprJ, mexD, mexC, nfxB, morA, glyA, X, X, X, cstA, X, X, radA, X, X, ankB, katB, X, mscL, fnr-2, dctP, X, X, X, X, X, X, X, X, X, X, X, hprA, rsmC, lysP, X, X, X, X, X, X, mgtC, X, X, X, X, X, X, mqoB, X, X, X, X, hpt, upp, uraA, X, X, X, csuC, csuD, X, X, hemH, X, X, X, X, phr, pagL, murI, moeB, X, prfA, hemA, X, lolB, ipk, X, prs, rplY, pth, ychF, X, X, X, X, X, X, X, X, X, X, X, X, X, X, X, X, X, X, kda, kda, X, X, X, X, vapI, iutA, yadF, X, rimI, X, X, X, X, X, X, X, X, hitA, hitB, X, X, X, X, X, X, X, X, X, X, X, pssA, ilvC, ilvH, ilvI, X, X, X, X, mrcB, X, X, X, X, X, phuW, phuV, phuU, phuT, phuS, X, phuR, X, X, X, X, yfdZ, X, X, X, yieG, trmA, sfsA, aspC, dksA, yadB, X, cbrA, cbrB, pcnB, folK, panB, panC, panD, pgi, acsB, X, X, X, X, X, X, pnp, X, rpsO, truB, rbfA, infB, nusA, yhbC, X, X, secG, tpiA, glmM, folP, ftsH, rrmJ, yhbY, X, greA, carB, yeaS, carA, dapB, dnaJ, dnaK, grpE, recN, fur, omlA, yfjF, yfjG, smpB, pdhR, lldP, lldD, X, X, X, X, PmrA, PmrB': 1,\n",
       "         'PmrB, PmrA, X, X, X, X, lldD, lldP, pdhR, smpB, yfjG, yfjF, omlA, fur, recN, recN, grpE, dnaK, dnaJ, dapB, carA, yeaS, carB, greA, X, yhbY, rrmJ, ftsH, folP, glmM, tpiA, secG, X, X, yhbC, nusA, infB, rbfA, truB, rpsO, X, pnp, X, X, X, X, X, X, acsB, pgi, panD, panC, panB, folK, pcnB, cbrB, cbrA, X, yadB, dksA, aspC, sfsA, trmA, yieG, X, X, X, yfdZ, X, X, X, X, phuR, phuS, phuT, phuU, phuV, phuW, X, X, X, trbF, X, X, X, X, X, trbC, X, X, traG, X, X, X, X, X, X, X, X, X, X, X, X, X, X, X, X, X, X, X, X, X, X, X, X, X, X, X, X, X, X, X, X, X, X, X, mrcB, X, X, X, ilvI, ilvH, ilvC, pssA, X, X, X, X, X, X, X, X, X, X, hitB, hitA, X, X, X, X, X, X, X, X, rimI, X, yadF, iutA, vapI, X, ychF, pth, rplY, prs, X, ipk, lolB, X, hemA, prfA, X, moeB, murI, pagL, phr, X, X, X, X, hemH, X, X, csuD, csuC, X, X, X, uraA, upp, hpt, X, X, X, X, mqoB, X, X, X, X, X, X, mgtC, X, X, X, X, X, X, lysP, rsmC, hprA, X, X, X, X, X, X, X, X, X, X, X, dctP, fnr-2, mscL, X, katB, ankB, X, X, radA, X, X, cstA, X, X, X, X, glyA, morA, nfxB, mexC, mexD, oprJ, nfxB, X, X, X, X, X, X, pra, X, X, gdhA, ccpR, X, rtcA, X, X, X, X, X, rtcR, X, X, X, X, X, X, X, X, fklB, X, X, ispB, rplU, rpmA, obgE, proB, X, rpsT, mviN, ribF, ileS, lspA, X, ispH, pilE, pilY2, pilY1, pilX, pilW, pilV, fimU, X, pilR, pilS, X, comL, rluD, X, clpB, X, X, X, X, X, X, ndh, X, X, X, X, X, X, X, X, coaE, pilD, pilC, pilB, X, nadC, X, ampD, ampE, X, X, speC, X, X, X, piuC, X, X, piuB, lpxO1, X, X, X, X, X, dppF, dppD, dppC, X, X, X, X, X, X, X, X, X, X, X, X, X, X, X, X, X, X, X, X, gatB, gatA, gatC, X, mreB, mreC, mreD, maf, cafA, X, X, X, X, pmbA, X, fumC, X, sodM, X, X, X, ptsN, X, rpoN, X, X, X, X, yrbH, X, X, X, ttg2D, X, X, murA, hisG, X, hisD, hisC1, algW, X, mltB1, cysD, cysN, X, X, trpS, X, X, X, X, X, rplM, rpsI, X, X, X, sspA, sspB, X, gmhA, X, X, X, X, mraW, ftsL, ftsI, murE, murF, mraY, murD, ftsW, murG, murC, ddl, ftsQ, ftsA, ftsZ, lpxC, X, X, X, secA, argJ, X, mutT, X, X, apbA, X, X, X, ampG, X, X, X, fabG, X, fxsA, groES, groEL, X, crcB, X, colR, colS, X, inaA, X, pncB2, X, X, X, X, X, icmP, X, X, X, sodB, X, X, iciA, X, X, X, X, feoA, feoB, X, X, X, X, X, X, X, X, X, X, X, X, X, X, X, X, X, X, X, X, X, X, X, mntH1, fumA, X, X, X, X, pykA, X, X, X, X, X, X, moxR, X, X, X, X, X, sbcB, mvaT, purU, X, X, X, X, X, pctB, pctA, X, yjgR, pctC, X, X, X, X, cpaF2, X, X, X, X, X, X, X, X, X, pitA, X, X, chrA, X, X, X, recC, recB, recD, X, sbcC, sbcD, X, X, X, X, X, dnaE2, X, X, nemO, pigB, pigC, X, X, hxcW, hxcU, hxcP, hxcV, hxcT, hxcX, hxcY, X, hxcZ, hxcQ, hxcR, X, X, hxcS, X, X, X, X, X, exbB2, exbD2, X, X, X, X, X, X, X, X, X, X, X, X, X, migA, X, cat, toxR, X, X, gloA2, X, X, X, X, X, X, X, X, X, X, X, X, X, X, X, X, X, X, X, X, X, X, X, X, X, X, X, X, X, X, X, X, radC, X, X, X, X, X, X, X, X, X, X, X, X, X, X, X, X, X, X, X, X, X, X, X, X, X, X, X, X, X, X, X, X, X, X, X, X, X, X, X, X, X, X, X, X, X, X, X, X, rsuA, X, X, X, X, X, X, X, X, yjcS, ywnB, X, X, X, X, X, X, X, X, X, X, ung, X, X, X, X, opdH, X, X, X, X, X, X, nadB, algU, mucA, mucB, mucC, mucD, lepA, lepB, X, rnc, era, recO, pdxJ, yecP, yecO, X, X, icp, X, pruR, X, putA, putP, X, X, X, X, X, X, X, X, X, X, prpD, X, X, prpC, prpB, X, pmtA, X, X, X, X, X, X, X, X, X, X, mntH2, X, X, X, X, X, X, X, X, X, X, X, X, X, X, X, X, X, X, X, X, X, X, X, X, X, X, X, X, X, X, X, X, X, X, X, X, X, X, X, X, X, X, X, X, X, X, X, X, X, X, X, X, X, X, X, X, X, X, X, X, X, X, X, X, oruR, ycbL, X, X, pta, ackA, X, slyD, btuE, X, X, X, X, plcR, plcH, X, X, X, X, trxB2, X, X, cpbD, X, fumC2, X, X, bolA, X, X, X, X, X, X, X, X, X, hpd, aroP2, X, yaeJ, pbpG, phhC, phhB, phhA, phhR, X, X, X, X, X, X, X, X, X, X, X, X, dctP, dctQ, dctM, acsA, aotJ, aotQ, aotM, aotO, aotP, argR, X, argD, aruF, aruG, aruD, aruB, X, aruE, X, alaS, lysC, rsmA, X, X, X, X, X, X, X, X, X, X, mgtE, X, yehS, yliG, kup, kup, X, X, X, X, X, X, dinP, X, X, X, ldhA, lemA, pirR, pirS, pirA, cysM, X, rumA, relA, mazG, lpxO2, yaiL, X, X, X, X, X, X, X, purN, purM, X, X, X, X, wrbA, X, rbn, X, X, helX, X, X, proS, X, X, oprD, X, tniA, Urf2, X, merD, X, merC, merP, merT, merR, X, X, intI1, aadA1, sul1, istB, istA, X, X, X, X, oprD, X, X, X, X, aspS, yebC, ruvC, ruvA, ruvB, ybgC, tolQ, tolR, tolA, tolB, oprL, X, X, X, X, X, X, X, X, X, X, X, X, X, X, X, X, X, X, X, X, X, X, X, X, X, X, X, X, X, X, X, X, X, X, X, X, X, X, X, X, X, X, X, X, X, X, X, X, X, X, katA, X, X, X, X, X, X, X, X, X, X, X, X, X, X, exoU, X, X, cupC1, cupC3, ogt, pqsA, pqsB, pqsC, pqsD, pqsE, phnA, phnB, mvfR, X, nadA, X, yrkI, perM, bcp, X, dapA, X, yycJ, purC, X, X, X, X, X, pauA, X, mucK, X, X, X, X, X, X, X, X, X, X, X, opdD, X, X, pcd, X, X, X, yigN, X, pac, yfcG, X, X, X, X, X, X, X, X, X, X, X, dinG, X, X, X, pdxH, yeaG, X, X, X, X, phaA, phaC, phaD, phaE, phaF, phaG, X, X, X, X, X, X, X, X, X, X, braG, livG, livM, braD, braC, X, X, X, flgB, flgC, flgD, flgE, flgF, flgG, flgH, flgI, flgJ, flgK, X, X, X, X, X, X, X, X, X, X, fliC, X, fliD, X, X, X, fleQ, fleS, fleR, fliE, fliF, fliG, fliH, fliI, fliJ, X, X, X, X, X, X, yliI, X, X, X, X, X, X, X, X, X, X, X, X, X, X, X, X, dgt, cobB, X, gsp69, X, X, rhlC, X, X, X, X, X, yedU, X, X, X, X, ylbA, X, X, X, X, X, X, X, X, toxA, X, pyoS3A, X, X, X, X, nrdB, nrdA, X, X, X, X, X, rrmA, dapE, X, X, pcpS, X, X, X, X, X, X, napc, X, X, napA, napD, napF, napE, oprH, phoP, phoQ, yegE, X, X, dctA, X, yfcG, X, lcaD, X, X, yohC, X, ydaO, X, X, X, X, X, X, X, X, X, ycaC, X, yieF, X, X, kefB, X, X, yhhW, X, X, X, X, X, X, X, X, X, X, X, mltA, X, X, X, X, X, X, X, X, X, X, X, yeaM, X, X, X, X, X, X, X, X, X, X, X, X, X, X, X, X, aprX, aprD, aprE, aprF, X, aprA, aprI, X, X, X, X, X, glnQ, X, X, X, X, X, X, X, X, X, X, X, X, X, X, X, X, X, btuB, cobO, cobB, X, cobD, cobC, cobQ, cobU, cobT, cobC, cobS, X, X, X, X, X, X, ompP1, X, X, X, sseA, X, X, rnd, ycgL, X, czcD, X, ycgN, X, X, hxuC, X, X, X, X, yafJ, X, phnR, phnW, phnX, X, X, X, X, X, X, cyoA, cyoB, cyoC, X, cyoD, cyoE, pfuA, X, X, yybH, ilvA2, X, X, X, X, yegH, X, X, X, X, X, X, X, X, ansB, ggt, gltL, gltK, gltJ, ybeJ, X, X, X, X, X, X, X, X, X, X, X, X, X, X, X, X, X, ybiF, norM, X, X, X, X, X, X, X, X, X, X, X, X, X, X, X, X, fabF2, X, pdxB, aceK, X, X, X, yqhC, X, X, X, X, X, X, X, X, pyc, X, X, X, X, X, X, X, X, X, aphA, potF, X, yjiJ, yneJ, X, X, X, ilvG, X, X, X, gbuA, gbuR, X, X, X, X, X, yjaB, X, X, lasR, lasI, X, X, X, X, X, X, X, X, X, X, X, fliL, fliM, fliN, fliO, fliP, fliQ, fliR, flhB, X, X, flhA, flhF, fleN, fliA, cheY, cheZ, X, cheA, cheB, motC, motD, X, X, cheW, X, X, X, X, X, X, X, X, X, ccmA, ccmB, ccmC, X, ccmE, ccmF, ccmG, ccmH, cycH, X, X, X, X, X, X, X, X, X, X, cysP, muiA, X, X, X, pykF, ttuD, glxR, hyi, gcl, X, X, moaA2, X, ygfU, X, X, X, X, hcpD, X, allA, alc, X, X, X, X, X, X, gda1, X, xdhB, xdhA, X, alkB2, X, smc, zipA, ligA, X, X, dnaX, X, recR, X, X, X, X, X, X, ydgF, X, apt, anr, X, hemN, X, fixS, fixI, X, fixG, X, ccoP, X, ccoO, ccoN, ccoP, X, ccoO, ccoN, X, X, aer, acnA, ygdE, X, X, X, X, X, X, X, X, X, X, X, yijF, yaiE, X, X, X, X, X, X, gltA, sdhC, sdhD, sdhA, sdhB, kgd, sucB, lpdG, sucC, sucD, braB, X, X, X, X, X, htpG, X, panB, X, X, X, X, X, X, X, X, X, X, fabB, fabA, X, X, X, gpsA, X, sixA, X, X, X, X, X, X, X, X, X, X, X, paaH, X, X, X, kdpF, kdpA, kdpB, kdpC, kdpD, kdpE, glsA, X, X, X, selD, ybbB, X, X, X, X, X, X, X, X, X, benE, X, X, X, X, X, X, X, X, X, hcpD, X, X, X, X, X, X, X, X, X, X, X, X, X, X, stp1, stk1, X, X, folE, X, X, X, X, X, X, aroC, X, X, X, masA, X, alkA, speE, X, X, pscU, pscT, pscS, pscR, pscQ, pscP, pscO, pscN, popN, pcr1, pcr2, pcr3, pcr4, pcrD, pcrR, pcrG, pcrV, pcrH, popB, popD, exsC, X, exsB, exsA, X, exsD, pscB, pscC, pscD, pscF, pscG, pscH, pscI, pscJ, pscK, pscL, bglX, X, X, X, X, X, X, X, X, X, X, X, fadB, X, X, X, arsC, X, X, X, X, X, X, X, X, aroF-1, X, panE, X, cysB, X, cysH, thrH, pabB, X, X, X, X, X, X, X, X, X, X, X, ydiA, X, ppsA, estX, menG, cmaX, crfX, cmpX, sigX, oprF, cobA, nasA, nirD, nirB, ppkB, nasA, X, X, nasT, nasS, acnB, X, X, uspA, miaE, X, X, ppiB, glnS, cysS, folD, X, X, X, X, X, X, mipA, X, X, X, X, tig, clpP, clpX, lon, hupB, X, ppiD, fabI, X, X, X, X, X, mltD, X, X, rnhA, dnaQ, X, adi, X, nhaB, X, fimL, nudC, X, X, X, X, X, X, X, gpmA, sohB, yhfP, X, X, X, X, cysI, X, X, X, X, X, X, X, metH, X, X, cti, yhgI, X, X, X, X, X, X, X, X, X, ccoN-2, X, yedI, X, str, X, X, modC, modB, modA, X, X, X, X, X, X, xqhA, X, X, lasA, X, X, X, opmL, X, X, X, X, X, X, sugE, nuoA, X, X, polB, X, X, X, X, X, X, X, X, X, X, X, X, X, qscR, phzA2, X, phzB2, phzC2, X, phzE2, phzF2, phzG1, apaH, X, X, X, X, ufrA, X, X, X, X, hvn, X, X, X, X, X, nrdG, X, nrdD, X, X, cirA, cobN, X, X, X, metE, rimJ, X, X, X, X, X, X, X, X, X, X, X, X, X, X, rbsB, rbsA, rbsC, rbsR, rbsK, X, X, X, X, X, X, nadR, X, bacA, X, X, X, acpD, X, ybiT, X, X, X, X, X, X, X, X, X, X, X, X, X, X, X, X, X, X, X, X, X, X, X, X, X, X, X, X, X, X, terL, X, X, X, X, X, X, X, X, X, X, X, X, X, X, X, X, X, X, X, X, X, X, X, X, X, X, X, X, braZ, PmrC': 1})"
      ]
     },
     "execution_count": 44,
     "metadata": {},
     "output_type": "execute_result"
    }
   ],
   "source": [
    "## Check the gene order\n",
    "\n",
    "FT = pd.DataFrame(rows)\n",
    "Counter(FT['Gene Order'])\n"
   ]
  },
  {
   "cell_type": "code",
   "execution_count": 14,
   "metadata": {},
   "outputs": [
    {
     "data": {
      "text/plain": [
       "<matplotlib_venn._common.VennDiagram at 0x7f1701e5bfd0>"
      ]
     },
     "execution_count": 14,
     "metadata": {},
     "output_type": "execute_result"
    },
    {
     "data": {
      "image/png": "[encoded data removed]",
      "text/plain": [
       "<Figure size 432x288 with 1 Axes>"
      ]
     },
     "metadata": {},
     "output_type": "display_data"
    }
   ],
   "source": [
    "blast_res = set(query['Genome ID'])\n",
    "HMM_res = set(HK_RR.loc[HK_RR['product_1'] == 'PmrA']['Genome ID'])\n",
    "HMM_res.update(set(HK_RR.loc[HK_RR['product_2'] == 'PmrA']['Genome ID']))\n",
    "venn2([blast_res, HMM_res], ['BLAST res', 'HMM res'])"
   ]
  },
  {
   "cell_type": "markdown",
   "metadata": {},
   "source": [
    "#### Function for >03 genes in TCS operon"
   ]
  },
  {
   "cell_type": "code",
   "execution_count": 9,
   "metadata": {},
   "outputs": [],
   "source": [
    "# For more than 3 genes\n",
    "\n",
    "query = pd.read_csv(\"../data/blast/cus/a_baumannii/a_bauman_cusA_blast_out\", sep=\"\\s+\", skiprows=5, \n",
    "                   names = ['query acc.ver', 'subject acc.ver', '% identity', 'alignment length', 'mismatches', 'gap opens', 'q. start', 'q. end', 's. start', 's. end', 'evalue', 'bit score'])\n",
    "query['Genome ID']= [x.split('|')[-1].split('.peg')[0] for x in query['subject acc.ver']]\n",
    "tmp = query.groupby('Genome ID')['subject acc.ver','% identity'].max()['subject acc.ver'].tolist()\n",
    "query = query.set_index('subject acc.ver').loc[tmp]\n",
    "\n",
    "# merging the 3rd gene in operon\n",
    "\n",
    "pmr = HK_RR.loc[HK_RR['product_1'] == 'CusR'].append(HK_RR.loc[HK_RR['product_2'] == 'CusR'])\n",
    "directory = '/home/akanksha/akanksha/pan-genomics/data/a_baumannii/556_features_tab/'\n",
    "pmr = pmr.merge(query.reset_index().rename(columns = {'subject acc.ver':'patric_id_3'}), on = 'Genome ID', how = 'inner')\n",
    "pmr['product_3'] = ['CusA']*len(pmr)\n",
    "\n",
    "### merge more BLAST results\n",
    "\n",
    "query = pd.read_csv(\"../data/blast/cus/a_baumannii/a_bauman_cusB_blast_out\", sep=\"\\s+\", skiprows=5, \n",
    "                   names = ['query acc.ver', 'subject acc.ver', '% identity', 'alignment length', 'mismatches', 'gap opens', 'q. start', 'q. end', 's. start', 's. end', 'evalue', 'bit score'])\n",
    "query['Genome ID']= [x.split('|')[-1].split('.peg')[0] for x in query['subject acc.ver']]\n",
    "tmp = query.groupby('Genome ID')['subject acc.ver','% identity'].max()['subject acc.ver'].tolist()\n",
    "query = query.set_index('subject acc.ver').loc[tmp]\n",
    "#query.head()\n",
    "\n",
    "pmr = pmr.merge(query.reset_index().rename(columns = {'subject acc.ver':'patric_id_4'}), on = 'Genome ID', how = 'inner')\n",
    "pmr['product_4'] = ['CusB']*len(pmr)\n",
    "#pmr.head()\n",
    "\n",
    "query = pd.read_csv(\"../data/blast/cus/a_baumannii/a_bauman_cusC_blast_out\", sep=\"\\s+\", skiprows=5, \n",
    "                   names = ['query acc.ver', 'subject acc.ver', '% identity', 'alignment length', 'mismatches', 'gap opens', 'q. start', 'q. end', 's. start', 's. end', 'evalue', 'bit score'])\n",
    "query['Genome ID']= [x.split('|')[-1].split('.peg')[0] for x in query['subject acc.ver']]\n",
    "tmp = query.groupby('Genome ID')['subject acc.ver','% identity'].max()['subject acc.ver'].tolist()\n",
    "query = query.set_index('subject acc.ver').loc[tmp]\n",
    "#query.head()\n",
    "\n",
    "pmr = pmr.merge(query.reset_index().rename(columns = {'subject acc.ver':'patric_id_5'}), on = 'Genome ID', how = 'inner')\n",
    "pmr['product_5'] = ['CusC']*len(pmr)\n",
    "#pmr.to_csv(\"../data/blast/qse_out.csv\")\n",
    "\n",
    "\n",
    "query = pd.read_csv(\"../data/blast/cus/a_baumannii/a_bauman_cusF_blast_out\", sep=\"\\s+\", skiprows=5, \n",
    "                   names = ['query acc.ver', 'subject acc.ver', '% identity', 'alignment length', 'mismatches', 'gap opens', 'q. start', 'q. end', 's. start', 's. end', 'evalue', 'bit score'])\n",
    "query['Genome ID']= [x.split('|')[-1].split('.peg')[0] for x in query['subject acc.ver']]\n",
    "tmp = query.groupby('Genome ID')['subject acc.ver','% identity'].max()['subject acc.ver'].tolist()\n",
    "query = query.set_index('subject acc.ver').loc[tmp]\n",
    "\n",
    "\n",
    "pmr = pmr.merge(query.reset_index().rename(columns = {'subject acc.ver':'patric_id_6'}), on = 'Genome ID', how = 'inner')\n",
    "pmr['product_6'] = ['CusF']*len(pmr)\n",
    "#pmr.to_csv(\"../data/blast/kdp/a_baumannii_kdp_merge_out.csv\")"
   ]
  },
  {
   "cell_type": "code",
   "execution_count": 10,
   "metadata": {},
   "outputs": [
    {
     "data": {
      "text/plain": [
       "(216, 59)"
      ]
     },
     "execution_count": 10,
     "metadata": {},
     "output_type": "execute_result"
    }
   ],
   "source": [
    "pmr.shape"
   ]
  },
  {
   "cell_type": "code",
   "execution_count": 11,
   "metadata": {},
   "outputs": [],
   "source": [
    "input_list = ['CusA', 'CusB', 'CusC','CusS', 'CusR','CusF']\n",
    "#input_list = ['PmrC', 'PmrA', 'PmrB']\n",
    "rows = []\n",
    "\n",
    "for index in pmr.index:\n",
    "    gid = pmr.loc[index, 'Genome ID']\n",
    "    ft_i = pd.read_csv('%s/%s.PATRIC.features.tab'%(directory, gid), sep = '\\t').set_index('patric_id')\n",
    "\n",
    "    # step 1: check that they are all on the same contig\n",
    "    contigs = {ft_i.loc[pmr.loc[index, column_name], 'accession'] for column_name in pmr.columns if 'patric_id' in column_name}\n",
    "    if len(contigs) >1:\n",
    "        continue\n",
    "\n",
    "    ft_i = ft_i.reset_index()\n",
    "    indices = [ft_i.loc[ft_i['patric_id'] == pmr.loc[index, column_name]].index.tolist()[0] for column_name in pmr.columns if 'patric_id' in column_name]\n",
    "    ft_i = ft_i.iloc[min(indices):max(indices)+1]\n",
    "    rows.append(get_info(input_list, pmr, ft_i))"
   ]
  },
  {
   "cell_type": "code",
   "execution_count": 12,
   "metadata": {
    "scrolled": false
   },
   "outputs": [
    {
     "data": {
      "text/plain": [
       "Counter({'CusA, X, X, X, X, X, X, X, X, X, X, X, X, X, X, X, X, X, X, X, X, X, X, X, X, X, X, X, X, X, X, X, X, X, X, X, X, X, X, X, X, X, X, X, X, X, X, X, X, X, X, X, X, X, X, X, X, X, X, X, X, X, X, X, X, X, X, X, X, X, X, X, X, X, X, X, X, X, X, X, X, X, X, X, X, X, X, X, X, X, X, X, X, X, X, X, X, X, X, X, X, X, X, X, X, X, X, X, X, X, X, X, X, X, X, X, X, X, X, X, X, X, X, X, X, X, X, X, X, X, X, X, X, X, X, X, X, X, X, X, X, X, X, X, X, X, X, X, X, X, X, X, X, X, X, X, X, rplB, X, X, X, X, X, X, X, X, X, X, X, X, X, X, X, X, X, X, X, X, X, X, X, X, X, X, X, X, X, X, X, X, X, X, X, X, X, X, X, X, X, X, X, X, X, X, X, X, X, X, X, X, X, X, X, X, X, X, X, X, X, X, X, X, X, X, X, X, X, X, X, X, X, X, X, X, X, X, X, X, X, X, X, X, X, X, X, X, X, X, X, X, X, X, X, X, X, X, X, X, X, X, X, X, X, X, X, X, X, X, X, X, X, X, X, X, X, X, X, X, X, X, X, X, X, X, X, X, X, X, X, X, X, X, X, X, X, X, ilvE, gtrOC1, X, gtrOC2, pda1, gtrOC3, gtrOC4, X, gtrOC8, wecB, gtrOC9, X, aspS, X, X, X, X, X, X, X, X, X, X, X, X, X, X, X, X, X, X, X, X, X, X, X, X, X, X, X, X, X, X, X, X, X, X, X, X, X, X, X, X, X, X, X, X, X, X, X, X, X, X, X, X, X, X, X, X, X, X, X, X, X, X, X, X, X, X, X, X, X, X, X, X, X, X, X, X, X, X, X, X, X, X, X, X, X, X, X, X, X, X, X, X, X, X, X, X, X, X, X, X, X, X, X, X, X, X, X, X, X, X, X, X, X, X, X, X, X, X, X, X, X, X, X, X, X, X, X, X, X, X, X, X, X, X, X, X, X, X, X, X, X, X, X, X, X, X, X, X, X, X, X, X, X, X, X, X, X, X, X, X, X, X, X, X, X, X, X, X, X, X, X, X, X, X, X, X, X, X, X, X, X, X, X, X, X, X, X, X, X, X, X, X, X, X, X, X, X, X, X, X, X, X, X, X, X, X, X, X, X, X, X, X, X, X, X, X, X, X, X, X, X, X, X, X, X, X, X, X, X, X, X, X, X, X, X, X, X, X, X, X, X, X, X, X, rpoD, X, X, X, X, X, gltA, X, X, X, X, X, X, X, X, X, X, X, X, X, X, X, X, X, X, X, X, X, X, X, X, X, X, X, X, X, X, X, X, X, X, X, X, X, X, X, X, X, X, X, X, X, X, X, X, X, X, X, X, cpn60, X, X, X, X, X, X, X, X, X, X, X, X, X, X, X, X, X, X, X, X, X, X, X, X, X, X, X, X, X, X, X, X, X, X, X, X, X, X, X, X, X, X, X, X, X, X, X, X, gyrA, X, X, X, X, X, X, X, X, X, X, X, X, X, X, X, X, X, X, X, X, X, X, X, X, X, X, X, X, X, X, X, X, X, X, X, X, X, X, X, X, X, X, X, X, X, X, X, X, X, X, X, X, X, X, X, X, X, X, X, X, X, X, X, X, X, X, X, X, X, X, X, X, X, X, X, X, X, X, X, X, X, X, X, X, X, X, X, X, X, X, X, X, X, X, X, X, X, X, X, X, X, X, X, X, X, X, X, X, X, X, X, X, X, X, X, X, X, X, X, X, X, X, X, X, X, X, X, X, X, X, X, X, X, X, X, X, X, X, X, X, X, X, X, X, X, X, X, X, X, X, X, X, X, X, X, X, X, X, X, X, X, X, X, X, X, X, X, X, X, X, X, X, X, X, X, X, X, X, X, X, X, X, X, X, X, X, X, X, X, X, X, X, X, X, X, X, X, X, X, X, X, X, X, X, X, X, X, X, X, X, X, X, X, X, X, X, X, X, X, X, X, X, X, X, X, X, X, X, X, X, X, X, X, X, X, X, X, X, X, X, X, X, X, X, X, X, X, X, X, X, X, X, X, X, X, X, X, X, X, X, X, X, X, X, X, X, X, X, X, X, X, X, X, X, X, X, X, X, X, X, X, X, X, X, X, X, X, X, X, X, X, X, X, X, X, X, X, X, X, X, X, X, X, X, X, X, X, X, X, X, X, X, X, X, X, X, X, X, X, X, X, X, X, X, X, X, X, X, X, X, X, X, X, X, X, X, X, X, X, X, X, X, X, X, X, X, X, X, X, X, X, X, X, X, X, X, X, X, X, X, X, X, X, X, X, X, X, X, X, X, X, X, X, X, X, X, X, X, X, X, X, X, X, X, X, X, X, X, X, X, X, X, X, X, X, X, X, X, X, X, X, X, X, X, X, X, X, X, X, X, X, X, X, X, X, X, X, X, X, X, X, X, X, X, X, X, X, X, X, X, X, X, X, X, X, X, X, X, X, X, X, X, X, X, X, X, X, X, X, X, X, X, X, X, X, X, X, X, X, X, ampC, X, X, X, X, X, X, folE, X, X, X, X, X, X, X, X, X, X, X, X, X, X, X, X, X, X, X, X, X, X, X, X, X, X, X, X, X, X, X, X, X, X, X, X, X, X, X, X, X, X, X, X, X, X, X, X, X, X, X, X, X, X, X, X, X, X, X, X, X, X, X, X, X, X, X, X, X, X, X, X, X, X, X, X, X, X, X, X, X, X, X, X, X, X, X, X, X, X, X, X, X, X, X, X, X, X, X, X, X, X, X, X, X, X, X, X, X, X, X, X, X, X, X, X, X, X, X, X, X, X, X, X, X, X, X, X, X, X, X, X, X, X, X, X, X, X, X, X, X, X, X, X, X, X, X, X, X, X, X, X, csuA/B, csuA, csuB, csuC, csuD, csuE, X, X, X, X, X, X, X, X, X, X, X, X, X, X, X, X, X, X, X, X, X, X, X, X, X, X, X, X, X, X, X, X, X, X, X, X, X, X, X, X, X, X, X, X, X, X, X, X, X, X, X, X, X, X, X, X, X, X, X, X, X, X, X, X, X, X, X, X, X, X, X, X, X, X, X, X, X, X, X, X, X, X, X, X, X, X, X, X, X, X, X, X, X, X, X, X, X, X, X, X, X, X, X, X, X, X, X, X, X, X, X, X, X, X, X, X, X, X, X, X, X, X, X, X, X, X, X, X, X, X, X, X, X, X, X, X, X, X, X, X, X, X, X, X, X, X, X, X, X, X, X, X, X, X, X, X, X, X, X, X, X, X, X, X, X, X, X, X, X, X, X, X, X, X, X, X, X, X, X, X, X, X, X, X, X, X, X, X, X, X, X, X, X, X, X, X, X, X, X, X, X, X, X, X, X, X, X, X, X, X, X, X, X, X, X, X, X, X, X, X, X, X, X, X, X, X, X, X, X, X, X, X, X, X, X, X, X, X, X, X, X, X, X, X, X, aceI, X, X, X, X, X, X, X, X, X, X, X, X, X, X, X, X, X, X, X, X, X, X, X, X, X, X, X, X, X, X, X, X, X, X, X, X, X, X, X, X, X, X, X, X, X, X, X, X, X, X, X, X, X, X, X, X, X, X, X, X, X, X, X, X, X, X, X, X, X, X, X, X, X, X, X, recA, X, X, X, X, X, X, X, X, X, X, X, X, X, gdhB, X, X, X, X, X, X, X, X, X, X, X, X, X, X, X, X, X, X, X, X, X, X, X, X, X, X, X, X, X, X, X, X, X, X, X, X, X, X, X, X, X, X, X, X, X, X, X, X, X, X, X, X, X, X, X, X, X, X, X, pyrG, X, X, X, X, X, X, X, X, X, X, X, X, X, X, X, X, X, X, X, X, X, X, X, X, X, X, X, X, X, X, X, X, X, X, X, X, X, X, X, X, X, X, X, X, X, X, X, X, X, X, X, X, X, X, X, X, X, X, X, X, X, X, X, X, X, X, X, X, X, X, X, X, X, X, X, X, X, X, X, X, X, X, X, X, X, X, X, X, X, X, X, X, X, X, X, X, X, X, X, X, X, X, X, X, X, X, X, X, X, X, X, X, X, X, X, X, X, X, X, X, X, X, X, X, X, X, X, X, X, X, CusC, X, X, X, X, X, X, X, X, X, X, X, X, X, X, X, X, X, X, X, X, X, X, X, X, X, X, X, X, X, X, X, X, X, X, X, X, X, X, X, X, X, X, X, X, X, X, X, X, X, X, X, X, X, X, X, X, X, X, X, X, X, X, X, X, X, X, X, X, X, X, X, X, X, X, X, X, X, X, X, X, X, X, X, X, X, X, X, X, X, X, X, X, X, X, X, X, X, X, X, X, X, X, X, X, X, X, X, X, X, X, X, X, X, X, X, X, X, X, X, X, X, X, X, X, X, X, X, X, X, X, X, X, X, X, X, X, X, X, X, X, X, X, X, X, X, X, X, X, X, X, X, X, X, X, X, X, X, X, X, X, X, X, X, X, X, X, X, X, X, X, X, X, X, X, X, X, X, X, X, X, X, X, X, X, X, X, X, X, X, X, X, X, X, X, X, X, X, X, X, X, X, X, X, X, X, X, X, X, X, X, X, X, X, X, X, X, X, X, X, X, X, X, X, X, X, X, X, X, X, X, X, X, X, X, X, X, X, X, X, X, X, X, X, X, X, X, X, X, X, X, X, X, X, X, X, X, X, X, X, X, X, X, X, X, X, X, X, X, X, X, X, X, X, X, X, X, X, X, X, X, X, X, X, X, X, X, X, X, X, X, X, X, X, X, X, X, X, X, X, X, oxa-Ab, X, X, X, X, X, X, X, X, X, X, X, X, X, X, X, X, X, X, X, X, X, X, X, X, X, X, X, X, X, X, X, X, X, X, X, X, X, X, X, X, X, X, X, X, X, X, X, X, X, X, X, X, X, X, X, X, X, X, X, X, X, X, X, X, X, X, X, X, X, X, X, X, X, X, X, X, X, X, X, X, X, X, X, X, X, X, X, X, X, X, X, X, X, X, X, X, X, X, X, X, X, X, X, X, X, X, X, X, X, X, X, X, X, X, X, X, X, X, X, X, X, X, X, X, X, X, X, X, X, X, X, X, X, X, X, X, X, X, X, X, X, X, X, X, X, X, X, X, X, X, X, X, X, X, X, X, X, X, X, X, X, X, X, X, X, X, X, X, X, X, X, X, X, X, X, X, X, X, X, X, X, X, X, X, X, X, X, X, X, X, X, X, X, X, X, X, X, X, X, X, X, X, X, X, X, X, X, X, X, X, X, X, X, X, X, X, X, X, X, X, X, X, X, X, X, X, X, X, X, X, X, X, X, X, X, X, X, X, X, X, X, X, X, X, X, X, X, X, X, X, X, X, X, X, X, X, X, X, X, X, X, X, X, X, X, X, X, X, X, X, X, X, X, X, X, X, X, X, X, X, X, X, X, X, X, X, X, X, X, X, X, X, X, X, X, X, X, X, X, X, X, X, X, X, X, X, X, X, X, X, X, X, X, X, X, X, X, X, X, X, X, X, X, X, X, X, X, X, X, X, X, X, X, X, X, X, X, X, X, X, X, X, X, X, X, X, X, X, X, X, X, X, X, X, X, X, X, X, X, X, X, X, X, X, X, X, X, X, X, X, X, X, X, X, X, X, X, X, X, X, X, X, X, X, X, X, X, X, X, X, X, X, X, X, X, X, X, X, X, X, X, X, X, X, X, X, X, X, X, X, X, X, X, X, X, X, X, X, X, X, X, X, X, X, X, X, X, X, X, X, X, X, X, X, X, X, X, X, X, X, X, X, X, X, X, X, X, X, X, X, X, X, X, X, X, X, X, X, X, X, X, X, X, X, X, X, X, X, X, X, X, X, X, X, X, X, X, X, X, X, X, X, X, X, X, X, X, X, X, X, X, X, X, X, X, X, X, X, X, X, X, X, X, X, X, X, X, X, X, X, X, X, X, X, X, X, X, X, X, X, X, X, X, X, X, X, X, X, X, X, X, X, X, X, X, X, X, X, X, X, X, X, X, X, X, X, X, X, X, X, X, X, X, X, X, X, X, X, X, X, X, X, X, X, X, X, X, X, X, X, X, X, X, X, X, X, X, X, X, X, X, X, X, X, X, X, X, X, X, X, X, X, X, X, X, X, X, X, X, X, X, X, X, X, X, X, X, X, X, X, X, X, X, X, X, X, X, X, X, X, X, X, X, X, X, X, X, X, X, X, X, X, X, X, X, X, X, X, X, X, X, X, X, X, X, X, X, X, X, X, X, X, X, X, X, X, X, X, X, X, X, X, X, X, X, X, X, X, X, X, X, X, X, X, X, X, X, X, X, X, X, X, X, X, X, X, X, X, X, X, X, X, X, X, X, X, X, X, X, X, X, X, X, X, X, X, X, X, X, X, X, X, X, X, X, X, X, X, X, X, X, X, X, X, X, X, X, X, X, X, X, X, X, X, X, X, X, X, X, X, X, X, X, X, X, X, X, X, X, X, X, X, X, X, X, X, X, X, X, X, X, X, X, X, X, X, X, X, X, X, X, X, X, X, X, X, X, X, X, X, X, X, X, X, X, X, X, X, X, X, X, X, X, X, X, X, X, X, X, X, X, X, X, X, X, X, X, X, X, X, X, X, X, X, X, X, X, X, X, X, X, X, X, X, X, X, X, X, X, X, X, X, X, X, X, X, X, X, X, X, X, X, X, X, X, X, X, X, X, X, X, X, X, X, X, X, X, X, X, X, X, X, X, X, X, X, X, X, X, X, X, X, X, X, X, X, X, X, X, X, X, X, X, X, X, X, X, X, X, X, X, X, X, X, X, X, X, X, X, X, X, X, X, X, X, X, X, X, X, X, X, X, X, X, X, X, X, X, X, X, X, X, X, X, X, X, X, X, X, X, X, X, X, X, X, X, X, X, X, X, X, X, fusA, X, X, X, X, X, X, X, X, X, X, X, X, X, X, X, X, X, X, X, X, X, X, X, X, X, X, X, X, X, X, X, X, X, X, X, X, X, X, X, X, X, X, X, X, X, X, X, X, X, X, X, X, X, X, X, X, X, X, X, X, X, X, X, X, X, X, X, X, X, X, X, X, X, X, X, X, X, X, X, X, X, X, X, X, X, X, X, X, X, X, X, X, X, X, X, X, X, X, X, X, X, X, X, X, X, X, X, X, X, X, X, X, X, X, X, X, X, X, X, X, X, X, X, X, X, X, X, X, X, X, X, X, X, X, X, X, X, X, X, X, X, X, X, X, X, X, X, X, X, X, X, X, X, X, X, X, X, X, X, X, X, X, X, X, X, X, X, X, X, X, X, X, X, X, X, X, X, X, X, X, X, X, X, X, X, X, X, X, X, X, X, X, X, X, X, X, X, X, X, X, X, X, X, X, X, X, X, X, X, X, X, X, X, X, X, X, X, X, X, X, X, X, X, X, X, X, X, X, X, X, X, X, X, X, X, X, X, X, X, X, X, X, X, X, X, X, X, X, X, X, X, X, X, X, X, X, X, X, X, X, X, X, X, X, X, X, X, X, X, X, X, X, X, X, X, X, X, X, X, X, CusB, X, X, X, X, X, CusR, CusS': 1,\n",
       "         'CusC, X, X, X, X, X, X, X, X, X, X, X, X, X, X, X, X, X, X, X, X, X, X, X, X, X, X, X, X, X, X, X, X, X, X, X, X, X, X, X, X, X, X, modB, X, X, X, X, antC, X, X, X, X, X, X, X, X, X, X, X, X, X, X, X, X, X, X, X, X, X, aspA, X, X, X, X, X, X, X, X, X, X, X, X, X, X, X, X, X, X, X, X, X, X, X, X, X, X, X, X, X, X, X, X, X, X, X, X, X, X, X, X, X, X, X, X, X, X, X, X, X, X, X, X, X, X, X, X, X, X, X, X, X, X, X, X, X, X, X, X, X, X, X, X, X, X, X, X, X, X, X, X, X, X, X, X, X, X, X, X, X, X, X, X, X, X, X, X, X, X, X, X, X, X, X, X, X, X, X, X, X, X, X, X, X, X, X, X, X, X, X, X, X, X, X, X, X, X, X, X, X, X, X, X, X, X, X, X, X, X, X, X, X, X, X, X, X, X, X, X, X, X, X, X, X, X, X, X, X, X, X, X, X, X, X, X, X, X, X, X, X, X, X, X, X, X, X, X, X, X, X, X, X, X, X, X, X, X, putA, X, X, X, X, X, X, X, X, X, X, X, X, X, X, X, X, X, X, X, X, X, X, X, X, X, X, X, X, X, X, X, X, X, X, X, X, X, X, X, X, X, X, X, X, artP, X, X, X, X, X, X, X, X, X, X, X, X, X, X, X, X, X, X, X, X, X, X, X, X, X, X, X, X, X, X, X, X, X, X, X, X, X, X, X, X, X, X, X, X, X, X, X, X, X, X, X, tauB, X, X, X, X, X, X, X, X, X, X, X, X, X, X, X, X, X, X, X, X, X, X, X, X, X, X, X, X, X, X, X, X, X, X, X, X, X, X, X, X, X, X, X, X, X, X, X, X, X, X, X, X, X, X, X, X, X, X, X, X, X, X, X, X, X, X, X, X, X, X, X, X, X, X, X, X, X, X, X, X, X, X, X, X, X, X, X, X, X, X, X, X, X, X, X, X, X, X, X, X, X, X, X, X, X, X, X, X, X, X, X, X, X, X, X, X, X, X, X, X, X, X, X, X, X, X, X, X, X, X, X, X, X, X, X, X, X, X, X, X, X, X, X, X, X, X, X, X, X, X, X, X, X, X, X, X, X, X, X, X, X, X, X, X, X, X, X, X, X, X, X, X, X, X, X, X, X, X, X, X, X, X, X, X, X, X, X, X, X, X, X, X, X, X, X, X, X, X, X, X, X, X, X, X, X, X, X, X, X, X, X, X, X, X, X, X, X, X, X, X, X, X, X, X, X, X, X, X, X, X, X, X, X, X, X, X, X, X, X, X, X, X, X, X, X, X, X, X, X, X, X, X, X, X, X, X, X, X, X, X, X, X, X, X, X, X, X, X, X, X, X, X, X, X, X, X, X, X, X, X, X, X, X, X, X, X, X, X, X, X, X, X, X, X, X, X, X, X, X, X, X, X, X, X, X, X, X, X, X, X, X, X, X, X, X, X, X, X, X, X, X, X, X, X, X, X, X, X, X, X, X, X, X, X, X, X, X, X, X, X, X, X, X, X, X, X, X, X, X, X, X, X, X, X, X, X, X, X, X, X, X, X, X, X, X, X, X, X, X, X, X, X, X, X, X, X, X, X, X, X, X, X, X, X, X, X, X, X, X, X, X, X, X, X, X, X, X, X, X, X, X, X, X, X, X, X, X, X, X, X, X, X, X, X, X, X, X, X, X, X, X, X, X, X, X, X, X, X, X, X, X, X, X, X, X, X, X, X, X, X, X, X, X, X, X, X, X, X, X, X, X, X, X, X, X, X, X, X, X, X, X, X, X, X, X, X, X, X, X, X, X, X, X, X, X, X, X, X, X, X, X, fadH, X, X, X, X, X, X, X, X, X, X, X, X, X, X, X, X, X, X, X, X, X, X, X, X, X, X, X, X, X, X, X, X, ssrS, X, X, X, X, X, X, X, X, X, X, X, X, X, X, X, X, X, X, X, X, X, X, X, X, X, X, X, X, X, X, X, X, X, X, X, X, X, X, X, X, X, X, X, X, X, X, X, X, X, X, X, X, X, X, X, X, X, X, X, X, X, X, X, X, X, X, X, X, X, X, X, X, X, X, X, X, X, X, X, X, X, X, X, X, X, X, X, X, X, X, X, X, X, X, X, X, X, X, X, X, X, X, X, X, X, X, X, X, X, X, X, X, X, X, X, X, X, X, X, X, X, X, X, X, X, X, X, X, X, X, X, X, X, X, X, X, X, X, X, X, X, X, X, X, X, X, X, X, X, X, X, X, X, X, X, X, X, X, X, X, X, X, X, X, X, X, X, X, X, X, X, X, X, X, X, X, X, X, X, X, X, X, X, X, X, X, X, X, X, X, X, X, X, X, X, X, X, X, X, X, X, X, X, X, X, X, X, X, X, X, X, X, X, X, X, X, X, X, X, X, X, X, X, X, X, X, X, X, X, X, X, X, X, X, X, X, X, X, X, X, X, X, X, X, X, X, X, ssrA, X, emrB, X, X, X, X, X, X, X, X, X, X, X, X, X, X, X, X, X, X, X, X, X, X, X, X, X, X, X, X, X, X, X, X, X, X, X, X, X, X, X, X, X, X, X, X, X, X, X, X, X, X, X, X, X, X, X, gabD, X, X, X, X, X, X, X, X, rnpB, X, X, X, X, X, X, X, X, X, X, X, X, X, X, X, X, X, X, X, X, X, X, X, X, X, X, X, X, X, X, X, X, X, X, X, X, X, X, X, X, X, X, X, X, X, X, ligA, X, X, X, X, X, X, X, X, X, X, X, X, X, X, X, X, X, X, X, X, X, metG, X, X, X, X, X, X, X, X, X, X, X, X, X, X, X, X, X, X, X, X, X, X, X, X, X, X, X, X, X, X, X, X, X, X, X, X, X, X, X, X, X, X, X, X, X, X, X, X, X, X, X, X, X, X, X, X, X, X, X, X, X, X, tcuB, X, X, X, X, X, X, X, X, X, X, X, X, X, X, X, X, X, X, X, X, X, X, X, X, X, X, X, X, X, X, X, X, X, X, X, X, X, X, X, X, rrf, X, X, X, X, X, X, X, X, X, X, X, X, X, X, X, X, X, X, X, X, X, X, X, X, X, X, X, X, X, X, X, X, X, X, X, X, X, X, X, X, X, X, X, X, X, X, X, X, X, X, X, X, X, X, X, X, X, X, X, X, X, X, X, X, X, X, X, X, X, X, X, X, X, X, X, X, X, X, CusF, X, X, X, CusB, X, X, X, X, X, CusR, CusS, X, X, X, X, X, X, X, X, X, X, X, X, X, X, X, X, X, X, X, X, X, X, X, X, X, X, X, X, X, X, X, X, X, X, X, X, X, X, X, X, X, X, X, X, X, X, X, X, X, X, X, X, X, X, X, X, X, X, X, X, X, X, X, X, X, X, X, X, X, X, X, X, X, X, X, X, X, X, X, X, X, X, X, X, X, X, X, X, X, X, X, X, X, X, X, X, X, X, X, X, X, X, X, X, X, X, X, X, X, X, X, X, X, X, X, X, X, X, X, X, X, X, X, X, X, X, X, X, X, X, X, X, X, X, X, X, X, X, X, X, X, X, X, X, X, X, X, X, X, X, X, X, X, X, X, X, X, X, X, X, X, X, X, X, X, X, X, X, X, X, X, X, X, X, X, X, X, X, X, X, X, X, X, X, X, X, X, X, X, X, X, X, X, X, X, X, X, X, X, X, X, X, X, X, X, X, X, X, X, X, X, X, X, X, X, X, X, X, X, X, X, X, X, X, X, X, X, X, X, X, X, X, X, X, X, X, X, X, nusA, X, X, X, X, X, X, X, X, X, X, X, X, X, X, X, X, X, X, X, X, X, X, X, X, X, X, X, X, X, X, X, X, X, X, X, X, X, X, X, X, X, X, X, X, X, X, X, X, X, X, X, X, X, X, X, X, X, X, X, X, X, X, X, X, X, X, X, X, X, X, X, X, X, X, X, X, X, X, X, X, X, X, X, X, X, X, X, X, X, X, X, X, X, X, X, X, X, X, X, X, X, X, sirA, X, X, X, X, X, X, X, X, X, X, X, X, X, X, X, X, X, X, X, X, X, X, X, X, X, X, X, X, X, X, X, X, X, X, X, X, X, X, X, X, X, X, X, X, X, X, X, X, X, X, X, X, X, X, X, X, X, X, X, X, X, X, X, X, X, X, X, X, X, X, X, rrf, X, X, X, X, X, X, X, X, X, X, X, X, X, X, X, X, X, X, X, X, X, X, X, X, X, X, X, X, X, X, X, X, X, X, X, X, X, X, X, X, X, X, X, X, X, X, X, X, X, X, X, X, X, X, X, X, X, X, X, X, X, X, X, X, X, X, X, X, X, X, X, X, X, X, X, X, X, X, X, X, X, X, X, X, X, X, X, X, X, X, X, X, X, X, X, X, X, lldD, X, X, X, X, X, X, X, X, X, X, X, X, X, X, X, X, X, X, X, X, X, X, X, X, X, X, X, X, X, X, X, X, X, X, X, X, X, X, X, X, X, X, X, X, X, X, X, X, X, X, X, X, X, X, X, X, ssuB, X, X, X, X, X, X, X, X, X, X, rrf, X, X, X, X, X, X, X, X, X, X, X, X, X, X, X, X, X, X, X, X, X, X, X, X, X, X, X, X, X, X, X, X, X, X, X, X, X, X, X, X, X, X, X, X, X, X, X, X, X, X, X, X, X, X, X, X, X, X, X, X, rrf, X, X, X, X, X, X, X, X, X, X, X, X, X, X, X, X, X, X, X, X, X, X, X, X, X, X, X, X, X, X, X, X, X, X, X, X, X, X, X, X, X, X, X, X, X, X, X, X, X, X, X, X, X, X, X, X, X, X, X, X, proY, X, X, X, X, X, X, X, X, X, X, X, X, X, X, X, X, X, X, X, X, X, X, X, X, X, X, X, X, X, X, X, X, X, X, X, X, X, X, X, X, X, X, X, X, X, X, X, X, X, X, X, X, X, X, X, X, X, X, X, X, X, X, X, X, X, X, X, X, X, X, X, X, X, X, X, X, X, X, X, X, X, X, X, X, X, X, X, X, X, X, X, X, X, X, X, X, X, X, X, X, X, X, X, X, X, X, X, X, X, X, X, X, X, X, X, X, actP, X, X, X, X, X, X, X, X, X, X, X, X, X, X, X, X, X, X, X, gabD, X, X, X, X, X, X, X, X, X, X, X, X, X, X, X, X, X, X, X, X, X, X, X, X, X, X, X, X, X, X, X, X, X, X, X, X, X, X, X, X, X, X, X, X, X, X, X, X, X, X, X, X, X, X, X, X, X, X, X, X, X, X, X, X, X, X, X, X, CusA': 1,\n",
       "         'CusS, CusR, X, X, X, X, X, CusB, CusA, CusF, X, X, X, X, X, X, X, X, X, X, X, X, X, X, X, X, X, X, X, X, X, X, X, X, X, X, X, X, X, X, X, X, X, X, X, X, X, X, X, X, X, X, X, X, X, X, X, X, X, X, X, X, X, X, X, X, X, X, X, X, X, X, X, X, X, X, X, X, X, X, X, X, X, X, X, X, X, X, X, X, X, X, X, X, X, X, X, X, X, X, X, X, X, X, X, X, X, X, X, X, X, X, X, X, X, X, X, X, X, X, X, X, X, X, X, X, X, X, X, X, X, X, X, X, X, X, X, X, X, X, X, X, X, X, X, X, X, X, X, X, X, X, X, X, X, X, X, X, X, X, X, X, X, X, X, X, X, X, X, X, X, X, X, X, X, X, X, X, X, X, X, X, X, X, X, X, X, X, X, X, X, X, X, X, X, X, X, X, X, X, X, X, X, X, X, X, X, X, X, X, X, X, X, X, X, X, X, X, X, X, X, X, X, X, X, X, X, X, X, X, X, X, X, X, X, X, X, X, X, X, X, X, X, X, X, X, X, X, X, X, X, X, X, X, X, X, X, X, X, X, X, X, X, X, X, X, X, X, X, X, X, X, X, X, X, X, X, X, X, X, X, X, X, X, X, X, X, X, X, X, X, X, X, X, X, X, X, X, X, X, X, X, X, X, X, X, X, X, X, X, X, X, X, X, X, X, X, X, X, X, X, X, X, X, X, X, X, X, X, X, X, X, X, X, X, X, X, X, X, X, X, X, X, X, X, X, X, X, X, X, X, X, X, X, X, X, X, X, X, X, X, X, X, X, X, X, X, X, X, X, X, X, X, X, X, X, X, X, X, X, X, X, X, X, X, X, X, X, X, X, X, X, X, X, X, X, X, X, X, X, X, X, X, X, X, X, X, X, X, X, X, X, X, X, X, X, X, X, X, X, X, X, X, X, X, X, X, X, X, X, X, X, X, X, X, X, X, X, X, X, X, X, X, X, X, X, X, X, X, X, X, X, X, X, X, X, X, X, X, X, X, X, X, X, X, X, X, X, X, X, X, X, X, X, X, X, X, X, X, X, X, X, X, X, X, X, X, X, X, X, X, X, X, X, X, X, X, X, X, X, X, X, X, X, X, X, X, X, X, X, X, X, X, X, X, X, X, X, X, X, X, X, X, X, X, X, X, X, X, X, X, X, X, X, X, X, X, X, X, X, X, X, X, X, X, X, X, X, X, X, X, X, X, X, X, X, X, X, X, X, X, X, X, X, X, X, X, X, X, X, X, X, X, X, X, X, X, X, X, X, X, X, X, X, X, X, X, X, X, X, X, X, X, X, X, X, X, X, X, X, X, X, X, X, X, X, X, X, X, X, X, X, X, X, X, X, X, X, X, X, X, X, X, X, X, X, X, X, X, X, X, X, X, X, X, X, X, X, X, X, X, X, X, X, X, X, X, X, X, X, X, X, X, X, X, X, X, X, X, X, X, X, X, X, X, X, X, X, X, X, X, X, X, X, X, X, X, X, X, X, X, X, X, X, X, X, X, X, X, X, X, X, X, X, X, X, X, X, X, X, X, X, X, X, X, X, X, X, X, X, X, X, X, X, X, X, X, X, X, X, X, X, X, X, X, X, X, X, X, X, X, X, X, X, X, X, X, X, X, X, X, X, X, X, X, X, X, X, X, X, X, X, X, X, X, X, X, X, X, X, X, X, X, X, X, X, X, X, X, X, X, X, X, X, X, X, X, X, X, X, X, X, X, X, X, X, X, X, X, X, X, X, X, X, X, X, X, X, X, X, X, X, X, X, X, X, X, X, X, X, X, X, X, X, X, X, X, X, X, X, X, X, X, X, X, X, X, X, X, X, X, X, X, X, X, X, X, X, X, X, X, X, X, X, X, X, X, X, X, X, X, X, X, X, X, X, X, X, X, X, X, X, X, X, X, X, X, X, X, X, X, X, X, X, X, X, X, X, X, X, X, X, X, X, X, X, X, X, X, X, X, X, X, X, X, X, X, X, X, X, X, X, X, X, X, X, X, X, X, X, X, X, X, X, X, X, X, X, X, X, X, X, X, X, X, X, X, X, X, X, X, X, X, X, X, X, X, X, X, X, X, X, X, X, X, X, X, X, X, X, X, X, X, X, X, X, X, X, X, X, X, X, X, X, X, X, X, X, X, X, X, X, X, X, X, X, X, X, X, X, X, X, X, X, X, X, X, X, X, X, X, X, X, X, X, X, X, X, X, X, X, X, X, X, X, X, X, X, X, X, X, X, X, X, X, X, X, X, X, X, X, X, X, X, X, X, X, X, X, X, X, X, X, X, X, X, X, X, X, X, X, X, X, X, X, X, X, X, X, X, X, X, X, X, X, X, X, X, X, X, X, X, X, X, X, X, X, X, X, X, X, X, X, X, X, X, X, X, X, X, X, X, X, X, X, X, X, X, X, X, X, X, X, X, X, X, X, X, X, X, X, X, X, X, X, X, X, X, X, X, X, X, X, X, X, X, X, X, X, X, X, X, X, X, X, X, X, X, X, X, X, X, X, X, X, X, X, X, X, X, X, X, X, X, X, X, X, X, X, X, X, X, X, X, X, X, X, X, X, X, X, X, X, X, X, X, X, X, X, X, X, X, X, X, X, X, X, X, X, X, X, X, X, X, X, X, X, X, X, X, X, X, X, X, X, X, X, X, X, X, X, X, X, X, X, X, X, X, X, X, X, X, X, X, X, X, X, X, X, X, X, X, X, X, X, X, X, X, X, X, X, X, X, X, X, X, X, X, X, X, X, X, X, X, X, X, X, X, X, X, X, X, X, X, X, X, X, X, X, X, X, X, X, X, X, X, X, X, X, X, X, X, X, X, X, X, X, X, X, X, X, X, X, X, X, X, X, X, X, X, X, X, X, X, X, X, X, X, X, X, X, X, X, X, X, X, X, X, X, X, X, X, X, X, X, X, X, X, X, X, X, X, X, X, X, X, X, X, X, X, X, X, X, X, X, X, X, X, X, X, X, X, X, X, X, X, X, X, X, X, X, X, X, X, X, X, X, X, X, X, X, X, X, X, X, X, X, X, X, X, X, X, X, X, X, X, X, X, X, X, X, X, X, X, X, X, X, X, X, X, X, X, X, X, X, X, X, X, X, X, X, X, X, X, X, X, X, X, X, X, X, X, X, X, X, X, X, X, X, X, X, X, X, X, X, X, X, X, X, X, X, X, X, X, X, X, X, X, X, X, X, X, X, X, X, X, X, X, X, X, X, X, X, X, X, X, X, X, X, X, X, X, X, X, X, X, X, X, X, X, X, X, X, X, X, X, X, X, X, X, X, X, X, X, X, X, X, X, X, X, X, X, X, X, X, X, X, X, X, X, X, X, X, X, X, X, X, X, X, X, X, X, X, X, X, X, X, X, X, X, X, X, X, X, X, X, X, X, X, X, X, X, X, X, X, X, X, X, X, X, X, X, X, X, X, X, X, X, X, X, X, X, X, X, X, X, X, X, X, X, X, X, X, X, X, X, X, X, X, X, X, X, X, X, X, X, X, X, X, X, X, X, X, X, X, X, X, X, X, X, X, X, X, X, X, X, X, X, X, X, X, X, X, X, X, X, X, X, X, X, X, X, X, X, X, X, X, X, X, X, X, X, X, X, X, X, X, X, X, X, X, X, X, X, X, X, X, X, X, X, X, X, X, X, X, X, X, X, X, X, X, X, X, X, X, X, X, X, X, X, X, X, X, X, X, X, X, X, X, X, X, X, X, X, X, X, X, X, X, X, X, X, X, X, X, X, X, X, X, X, X, X, X, X, X, X, X, X, X, X, X, X, X, X, X, X, X, X, X, X, X, X, X, X, X, X, X, X, X, X, X, X, X, X, X, X, X, X, X, X, X, X, X, X, X, X, X, X, X, X, X, X, X, X, X, X, X, X, X, X, X, X, X, X, X, X, X, X, X, X, X, X, X, X, X, X, X, X, X, X, X, X, X, X, X, X, X, X, X, X, X, X, X, X, X, X, X, X, X, X, X, X, X, X, X, X, X, X, X, X, X, X, X, X, X, X, X, X, X, X, X, X, X, X, X, X, X, X, X, X, X, X, X, X, X, X, X, X, X, X, X, X, X, X, X, X, X, X, X, X, X, X, X, X, X, X, X, X, X, X, X, X, X, X, X, X, X, X, X, X, X, X, X, X, X, X, X, X, X, X, X, X, X, X, X, X, X, X, X, X, X, X, X, X, X, X, X, X, X, X, X, X, X, X, X, X, X, X, X, X, X, X, X, X, X, X, X, X, X, X, X, X, X, X, X, X, X, X, X, X, X, X, X, X, X, X, X, X, X, X, X, X, X, X, X, X, X, X, X, X, X, X, X, X, X, X, X, X, X, X, X, X, X, X, X, X, X, X, X, X, X, X, X, X, X, X, X, X, X, X, X, X, X, X, X, X, X, X, X, X, X, X, X, X, X, X, X, X, X, X, X, X, X, X, X, X, X, X, X, X, X, X, X, X, X, X, X, X, X, X, X, X, X, X, X, X, X, X, X, X, X, X, X, X, X, X, X, X, X, X, X, X, X, X, X, X, X, X, X, X, X, X, X, X, X, X, X, X, X, X, X, X, X, X, X, X, X, X, X, X, X, X, X, X, X, X, X, X, X, X, X, X, X, X, X, X, X, X, X, X, X, X, X, X, X, X, X, X, X, X, X, X, X, X, X, X, X, X, X, X, X, X, X, X, X, X, X, X, X, X, X, X, X, X, X, X, X, X, X, X, X, X, X, X, X, X, X, X, X, X, X, X, X, X, X, X, X, X, X, X, X, X, X, X, X, X, X, X, X, X, X, X, X, X, X, X, X, X, X, X, X, X, X, X, X, X, X, X, X, X, X, X, X, X, X, X, X, X, X, X, X, X, X, X, X, X, X, X, X, X, X, X, X, X, X, X, X, X, X, X, X, X, X, X, X, X, X, X, X, X, X, X, X, X, X, X, X, X, X, X, CusC': 2})"
      ]
     },
     "execution_count": 12,
     "metadata": {},
     "output_type": "execute_result"
    }
   ],
   "source": [
    "FT = pd.DataFrame(rows)\n",
    "Counter(FT['Gene Order'])\n"
   ]
  },
  {
   "cell_type": "markdown",
   "metadata": {},
   "source": [
    "#### Export output file"
   ]
  },
  {
   "cell_type": "code",
   "execution_count": 13,
   "metadata": {},
   "outputs": [],
   "source": [
    "FT.to_csv(\"../data/blast/cus/a_baumannii/a_baumannii_cus_final_1.csv\")"
   ]
  }
 ],
 "metadata": {
  "kernelspec": {
   "display_name": "Python 3",
   "language": "python",
   "name": "python3"
  },
  "language_info": {
   "codemirror_mode": {
    "name": "ipython",
    "version": 3
   },
   "file_extension": ".py",
   "mimetype": "text/x-python",
   "name": "python",
   "nbconvert_exporter": "python",
   "pygments_lexer": "ipython3",
   "version": "3.7.3"
  }
 },
 "nbformat": 4,
 "nbformat_minor": 2
}
